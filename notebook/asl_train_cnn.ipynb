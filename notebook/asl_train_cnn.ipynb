{
  "cells": [
    {
      "cell_type": "code",
      "source": [
        "!unzip kaggle_landmarks.zip -d dataset"
      ],
      "metadata": {
        "colab": {
          "base_uri": "https://localhost:8080/"
        },
        "id": "6jMpWhof_tZd",
        "outputId": "444d0dd2-3d83-4de7-d35c-2f9caa2e514f"
      },
      "execution_count": 1,
      "outputs": [
        {
          "output_type": "stream",
          "name": "stdout",
          "text": [
            "Archive:  kaggle_landmarks.zip\n",
            "   creating: dataset/kaggle_landmarks/\n",
            "  inflating: dataset/kaggle_landmarks/A.csv  \n",
            "  inflating: dataset/kaggle_landmarks/B.csv  \n",
            "  inflating: dataset/kaggle_landmarks/C.csv  \n",
            "  inflating: dataset/kaggle_landmarks/D.csv  \n",
            "  inflating: dataset/kaggle_landmarks/E.csv  \n",
            "  inflating: dataset/kaggle_landmarks/F.csv  \n",
            "  inflating: dataset/kaggle_landmarks/G.csv  \n",
            "  inflating: dataset/kaggle_landmarks/H.csv  \n",
            "  inflating: dataset/kaggle_landmarks/I.csv  \n",
            "  inflating: dataset/kaggle_landmarks/J.csv  \n",
            "  inflating: dataset/kaggle_landmarks/K.csv  \n",
            "  inflating: dataset/kaggle_landmarks/L.csv  \n",
            "  inflating: dataset/kaggle_landmarks/M.csv  \n",
            "  inflating: dataset/kaggle_landmarks/N.csv  \n",
            "  inflating: dataset/kaggle_landmarks/O.csv  \n",
            "  inflating: dataset/kaggle_landmarks/P.csv  \n",
            "  inflating: dataset/kaggle_landmarks/Q.csv  \n",
            "  inflating: dataset/kaggle_landmarks/R.csv  \n",
            "  inflating: dataset/kaggle_landmarks/S.csv  \n",
            "  inflating: dataset/kaggle_landmarks/T.csv  \n",
            "  inflating: dataset/kaggle_landmarks/U.csv  \n",
            "  inflating: dataset/kaggle_landmarks/V.csv  \n",
            "  inflating: dataset/kaggle_landmarks/W.csv  \n",
            "  inflating: dataset/kaggle_landmarks/X.csv  \n",
            "  inflating: dataset/kaggle_landmarks/Y.csv  \n",
            "  inflating: dataset/kaggle_landmarks/Z.csv  \n"
          ]
        }
      ]
    },
    {
      "cell_type": "code",
      "execution_count": 2,
      "metadata": {
        "colab": {
          "base_uri": "https://localhost:8080/",
          "height": 1000
        },
        "id": "CFatES7KQHXn",
        "outputId": "6607c853-93eb-46f6-adcd-eae6c925a359"
      },
      "outputs": [
        {
          "output_type": "stream",
          "name": "stdout",
          "text": [
            "📂 Loading datasets...\n",
            "   → A: 2187 samples\n",
            "   → B: 2207 samples\n",
            "   → C: 1988 samples\n",
            "   → D: 2463 samples\n",
            "   → E: 2308 samples\n",
            "   → F: 2876 samples\n",
            "   → G: 2440 samples\n",
            "   → H: 2393 samples\n",
            "   → I: 2384 samples\n",
            "   → J: 2578 samples\n",
            "   → K: 2700 samples\n",
            "   → L: 2527 samples\n",
            "   → M: 1565 samples\n",
            "   → N: 1276 samples\n",
            "   → O: 2265 samples\n",
            "   → P: 2042 samples\n",
            "   → Q: 2093 samples\n",
            "   → R: 2541 samples\n",
            "   → S: 2551 samples\n",
            "   → T: 2349 samples\n",
            "   → U: 2516 samples\n",
            "   → V: 2548 samples\n",
            "   → W: 2456 samples\n",
            "   → X: 2158 samples\n",
            "   → Y: 2585 samples\n",
            "   → Z: 2351 samples\n",
            "\n",
            "🔀 Shuffling dataset...\n",
            "\n",
            "✅ Total samples: 60347 | Classes: 26 → [np.str_('A'), np.str_('B'), np.str_('C'), np.str_('D'), np.str_('E'), np.str_('F'), np.str_('G'), np.str_('H'), np.str_('I'), np.str_('J'), np.str_('K'), np.str_('L'), np.str_('M'), np.str_('N'), np.str_('O'), np.str_('P'), np.str_('Q'), np.str_('R'), np.str_('S'), np.str_('T'), np.str_('U'), np.str_('V'), np.str_('W'), np.str_('X'), np.str_('Y'), np.str_('Z')]\n",
            "\n",
            "📊 Class Distribution:\n",
            "  A:  2187 samples\n",
            "  B:  2207 samples\n",
            "  C:  1988 samples\n",
            "  D:  2463 samples\n",
            "  E:  2308 samples\n",
            "  F:  2876 samples\n",
            "  G:  2440 samples\n",
            "  H:  2393 samples\n",
            "  I:  2384 samples\n",
            "  J:  2578 samples\n",
            "  K:  2700 samples\n",
            "  L:  2527 samples\n",
            "  M:  1565 samples\n",
            "  N:  1276 samples\n",
            "  O:  2265 samples\n",
            "  P:  2042 samples\n",
            "  Q:  2093 samples\n",
            "  R:  2541 samples\n",
            "  S:  2551 samples\n",
            "  T:  2349 samples\n",
            "  U:  2516 samples\n",
            "  V:  2548 samples\n",
            "  W:  2456 samples\n",
            "  X:  2158 samples\n",
            "  Y:  2585 samples\n",
            "  Z:  2351 samples\n",
            "\n",
            "🔢 Input shape after reshaping: (21, 3)\n",
            "\n",
            "✂️  Splitting into train/validation sets (stratified)...\n",
            "\n",
            "🔍 Sample of first 10 labels in:\n",
            "   Train: ['A' 'S' 'Z' 'M' 'B' 'Y' 'Y' 'U' 'S' 'G']\n",
            "   Val:   ['X' 'B' 'O' 'X' 'O' 'G' 'Z' 'R' 'F' 'I']\n",
            "\n",
            "🧮 Train set class counts (first 5): {np.int64(0): 1750, np.int64(18): 2041, np.int64(25): 1881, np.int64(12): 1252, np.int64(1): 1766}\n",
            "🧮 Val set class counts (first 5):   {np.int64(23): 432, np.int64(1): 441, np.int64(14): 453, np.int64(6): 488, np.int64(25): 470}\n",
            "\n",
            "🧠 Building Conv1D model...\n"
          ]
        },
        {
          "output_type": "stream",
          "name": "stderr",
          "text": [
            "/usr/local/lib/python3.12/dist-packages/keras/src/layers/convolutional/base_conv.py:113: UserWarning: Do not pass an `input_shape`/`input_dim` argument to a layer. When using Sequential models, prefer using an `Input(shape)` object as the first layer in the model instead.\n",
            "  super().__init__(activity_regularizer=activity_regularizer, **kwargs)\n"
          ]
        },
        {
          "output_type": "display_data",
          "data": {
            "text/plain": [
              "\u001b[1mModel: \"sequential\"\u001b[0m\n"
            ],
            "text/html": [
              "<pre style=\"white-space:pre;overflow-x:auto;line-height:normal;font-family:Menlo,'DejaVu Sans Mono',consolas,'Courier New',monospace\"><span style=\"font-weight: bold\">Model: \"sequential\"</span>\n",
              "</pre>\n"
            ]
          },
          "metadata": {}
        },
        {
          "output_type": "display_data",
          "data": {
            "text/plain": [
              "┏━━━━━━━━━━━━━━━━━━━━━━━━━━━━━━━━━┳━━━━━━━━━━━━━━━━━━━━━━━━┳━━━━━━━━━━━━━━━┓\n",
              "┃\u001b[1m \u001b[0m\u001b[1mLayer (type)                   \u001b[0m\u001b[1m \u001b[0m┃\u001b[1m \u001b[0m\u001b[1mOutput Shape          \u001b[0m\u001b[1m \u001b[0m┃\u001b[1m \u001b[0m\u001b[1m      Param #\u001b[0m\u001b[1m \u001b[0m┃\n",
              "┡━━━━━━━━━━━━━━━━━━━━━━━━━━━━━━━━━╇━━━━━━━━━━━━━━━━━━━━━━━━╇━━━━━━━━━━━━━━━┩\n",
              "│ conv1d (\u001b[38;5;33mConv1D\u001b[0m)                 │ (\u001b[38;5;45mNone\u001b[0m, \u001b[38;5;34m19\u001b[0m, \u001b[38;5;34m64\u001b[0m)         │           \u001b[38;5;34m640\u001b[0m │\n",
              "├─────────────────────────────────┼────────────────────────┼───────────────┤\n",
              "│ batch_normalization             │ (\u001b[38;5;45mNone\u001b[0m, \u001b[38;5;34m19\u001b[0m, \u001b[38;5;34m64\u001b[0m)         │           \u001b[38;5;34m256\u001b[0m │\n",
              "│ (\u001b[38;5;33mBatchNormalization\u001b[0m)            │                        │               │\n",
              "├─────────────────────────────────┼────────────────────────┼───────────────┤\n",
              "│ dropout (\u001b[38;5;33mDropout\u001b[0m)               │ (\u001b[38;5;45mNone\u001b[0m, \u001b[38;5;34m19\u001b[0m, \u001b[38;5;34m64\u001b[0m)         │             \u001b[38;5;34m0\u001b[0m │\n",
              "├─────────────────────────────────┼────────────────────────┼───────────────┤\n",
              "│ conv1d_1 (\u001b[38;5;33mConv1D\u001b[0m)               │ (\u001b[38;5;45mNone\u001b[0m, \u001b[38;5;34m17\u001b[0m, \u001b[38;5;34m128\u001b[0m)        │        \u001b[38;5;34m24,704\u001b[0m │\n",
              "├─────────────────────────────────┼────────────────────────┼───────────────┤\n",
              "│ batch_normalization_1           │ (\u001b[38;5;45mNone\u001b[0m, \u001b[38;5;34m17\u001b[0m, \u001b[38;5;34m128\u001b[0m)        │           \u001b[38;5;34m512\u001b[0m │\n",
              "│ (\u001b[38;5;33mBatchNormalization\u001b[0m)            │                        │               │\n",
              "├─────────────────────────────────┼────────────────────────┼───────────────┤\n",
              "│ dropout_1 (\u001b[38;5;33mDropout\u001b[0m)             │ (\u001b[38;5;45mNone\u001b[0m, \u001b[38;5;34m17\u001b[0m, \u001b[38;5;34m128\u001b[0m)        │             \u001b[38;5;34m0\u001b[0m │\n",
              "├─────────────────────────────────┼────────────────────────┼───────────────┤\n",
              "│ conv1d_2 (\u001b[38;5;33mConv1D\u001b[0m)               │ (\u001b[38;5;45mNone\u001b[0m, \u001b[38;5;34m15\u001b[0m, \u001b[38;5;34m64\u001b[0m)         │        \u001b[38;5;34m24,640\u001b[0m │\n",
              "├─────────────────────────────────┼────────────────────────┼───────────────┤\n",
              "│ batch_normalization_2           │ (\u001b[38;5;45mNone\u001b[0m, \u001b[38;5;34m15\u001b[0m, \u001b[38;5;34m64\u001b[0m)         │           \u001b[38;5;34m256\u001b[0m │\n",
              "│ (\u001b[38;5;33mBatchNormalization\u001b[0m)            │                        │               │\n",
              "├─────────────────────────────────┼────────────────────────┼───────────────┤\n",
              "│ dropout_2 (\u001b[38;5;33mDropout\u001b[0m)             │ (\u001b[38;5;45mNone\u001b[0m, \u001b[38;5;34m15\u001b[0m, \u001b[38;5;34m64\u001b[0m)         │             \u001b[38;5;34m0\u001b[0m │\n",
              "├─────────────────────────────────┼────────────────────────┼───────────────┤\n",
              "│ global_average_pooling1d        │ (\u001b[38;5;45mNone\u001b[0m, \u001b[38;5;34m64\u001b[0m)             │             \u001b[38;5;34m0\u001b[0m │\n",
              "│ (\u001b[38;5;33mGlobalAveragePooling1D\u001b[0m)        │                        │               │\n",
              "├─────────────────────────────────┼────────────────────────┼───────────────┤\n",
              "│ dense (\u001b[38;5;33mDense\u001b[0m)                   │ (\u001b[38;5;45mNone\u001b[0m, \u001b[38;5;34m64\u001b[0m)             │         \u001b[38;5;34m4,160\u001b[0m │\n",
              "├─────────────────────────────────┼────────────────────────┼───────────────┤\n",
              "│ dropout_3 (\u001b[38;5;33mDropout\u001b[0m)             │ (\u001b[38;5;45mNone\u001b[0m, \u001b[38;5;34m64\u001b[0m)             │             \u001b[38;5;34m0\u001b[0m │\n",
              "├─────────────────────────────────┼────────────────────────┼───────────────┤\n",
              "│ dense_1 (\u001b[38;5;33mDense\u001b[0m)                 │ (\u001b[38;5;45mNone\u001b[0m, \u001b[38;5;34m26\u001b[0m)             │         \u001b[38;5;34m1,690\u001b[0m │\n",
              "└─────────────────────────────────┴────────────────────────┴───────────────┘\n"
            ],
            "text/html": [
              "<pre style=\"white-space:pre;overflow-x:auto;line-height:normal;font-family:Menlo,'DejaVu Sans Mono',consolas,'Courier New',monospace\">┏━━━━━━━━━━━━━━━━━━━━━━━━━━━━━━━━━┳━━━━━━━━━━━━━━━━━━━━━━━━┳━━━━━━━━━━━━━━━┓\n",
              "┃<span style=\"font-weight: bold\"> Layer (type)                    </span>┃<span style=\"font-weight: bold\"> Output Shape           </span>┃<span style=\"font-weight: bold\">       Param # </span>┃\n",
              "┡━━━━━━━━━━━━━━━━━━━━━━━━━━━━━━━━━╇━━━━━━━━━━━━━━━━━━━━━━━━╇━━━━━━━━━━━━━━━┩\n",
              "│ conv1d (<span style=\"color: #0087ff; text-decoration-color: #0087ff\">Conv1D</span>)                 │ (<span style=\"color: #00d7ff; text-decoration-color: #00d7ff\">None</span>, <span style=\"color: #00af00; text-decoration-color: #00af00\">19</span>, <span style=\"color: #00af00; text-decoration-color: #00af00\">64</span>)         │           <span style=\"color: #00af00; text-decoration-color: #00af00\">640</span> │\n",
              "├─────────────────────────────────┼────────────────────────┼───────────────┤\n",
              "│ batch_normalization             │ (<span style=\"color: #00d7ff; text-decoration-color: #00d7ff\">None</span>, <span style=\"color: #00af00; text-decoration-color: #00af00\">19</span>, <span style=\"color: #00af00; text-decoration-color: #00af00\">64</span>)         │           <span style=\"color: #00af00; text-decoration-color: #00af00\">256</span> │\n",
              "│ (<span style=\"color: #0087ff; text-decoration-color: #0087ff\">BatchNormalization</span>)            │                        │               │\n",
              "├─────────────────────────────────┼────────────────────────┼───────────────┤\n",
              "│ dropout (<span style=\"color: #0087ff; text-decoration-color: #0087ff\">Dropout</span>)               │ (<span style=\"color: #00d7ff; text-decoration-color: #00d7ff\">None</span>, <span style=\"color: #00af00; text-decoration-color: #00af00\">19</span>, <span style=\"color: #00af00; text-decoration-color: #00af00\">64</span>)         │             <span style=\"color: #00af00; text-decoration-color: #00af00\">0</span> │\n",
              "├─────────────────────────────────┼────────────────────────┼───────────────┤\n",
              "│ conv1d_1 (<span style=\"color: #0087ff; text-decoration-color: #0087ff\">Conv1D</span>)               │ (<span style=\"color: #00d7ff; text-decoration-color: #00d7ff\">None</span>, <span style=\"color: #00af00; text-decoration-color: #00af00\">17</span>, <span style=\"color: #00af00; text-decoration-color: #00af00\">128</span>)        │        <span style=\"color: #00af00; text-decoration-color: #00af00\">24,704</span> │\n",
              "├─────────────────────────────────┼────────────────────────┼───────────────┤\n",
              "│ batch_normalization_1           │ (<span style=\"color: #00d7ff; text-decoration-color: #00d7ff\">None</span>, <span style=\"color: #00af00; text-decoration-color: #00af00\">17</span>, <span style=\"color: #00af00; text-decoration-color: #00af00\">128</span>)        │           <span style=\"color: #00af00; text-decoration-color: #00af00\">512</span> │\n",
              "│ (<span style=\"color: #0087ff; text-decoration-color: #0087ff\">BatchNormalization</span>)            │                        │               │\n",
              "├─────────────────────────────────┼────────────────────────┼───────────────┤\n",
              "│ dropout_1 (<span style=\"color: #0087ff; text-decoration-color: #0087ff\">Dropout</span>)             │ (<span style=\"color: #00d7ff; text-decoration-color: #00d7ff\">None</span>, <span style=\"color: #00af00; text-decoration-color: #00af00\">17</span>, <span style=\"color: #00af00; text-decoration-color: #00af00\">128</span>)        │             <span style=\"color: #00af00; text-decoration-color: #00af00\">0</span> │\n",
              "├─────────────────────────────────┼────────────────────────┼───────────────┤\n",
              "│ conv1d_2 (<span style=\"color: #0087ff; text-decoration-color: #0087ff\">Conv1D</span>)               │ (<span style=\"color: #00d7ff; text-decoration-color: #00d7ff\">None</span>, <span style=\"color: #00af00; text-decoration-color: #00af00\">15</span>, <span style=\"color: #00af00; text-decoration-color: #00af00\">64</span>)         │        <span style=\"color: #00af00; text-decoration-color: #00af00\">24,640</span> │\n",
              "├─────────────────────────────────┼────────────────────────┼───────────────┤\n",
              "│ batch_normalization_2           │ (<span style=\"color: #00d7ff; text-decoration-color: #00d7ff\">None</span>, <span style=\"color: #00af00; text-decoration-color: #00af00\">15</span>, <span style=\"color: #00af00; text-decoration-color: #00af00\">64</span>)         │           <span style=\"color: #00af00; text-decoration-color: #00af00\">256</span> │\n",
              "│ (<span style=\"color: #0087ff; text-decoration-color: #0087ff\">BatchNormalization</span>)            │                        │               │\n",
              "├─────────────────────────────────┼────────────────────────┼───────────────┤\n",
              "│ dropout_2 (<span style=\"color: #0087ff; text-decoration-color: #0087ff\">Dropout</span>)             │ (<span style=\"color: #00d7ff; text-decoration-color: #00d7ff\">None</span>, <span style=\"color: #00af00; text-decoration-color: #00af00\">15</span>, <span style=\"color: #00af00; text-decoration-color: #00af00\">64</span>)         │             <span style=\"color: #00af00; text-decoration-color: #00af00\">0</span> │\n",
              "├─────────────────────────────────┼────────────────────────┼───────────────┤\n",
              "│ global_average_pooling1d        │ (<span style=\"color: #00d7ff; text-decoration-color: #00d7ff\">None</span>, <span style=\"color: #00af00; text-decoration-color: #00af00\">64</span>)             │             <span style=\"color: #00af00; text-decoration-color: #00af00\">0</span> │\n",
              "│ (<span style=\"color: #0087ff; text-decoration-color: #0087ff\">GlobalAveragePooling1D</span>)        │                        │               │\n",
              "├─────────────────────────────────┼────────────────────────┼───────────────┤\n",
              "│ dense (<span style=\"color: #0087ff; text-decoration-color: #0087ff\">Dense</span>)                   │ (<span style=\"color: #00d7ff; text-decoration-color: #00d7ff\">None</span>, <span style=\"color: #00af00; text-decoration-color: #00af00\">64</span>)             │         <span style=\"color: #00af00; text-decoration-color: #00af00\">4,160</span> │\n",
              "├─────────────────────────────────┼────────────────────────┼───────────────┤\n",
              "│ dropout_3 (<span style=\"color: #0087ff; text-decoration-color: #0087ff\">Dropout</span>)             │ (<span style=\"color: #00d7ff; text-decoration-color: #00d7ff\">None</span>, <span style=\"color: #00af00; text-decoration-color: #00af00\">64</span>)             │             <span style=\"color: #00af00; text-decoration-color: #00af00\">0</span> │\n",
              "├─────────────────────────────────┼────────────────────────┼───────────────┤\n",
              "│ dense_1 (<span style=\"color: #0087ff; text-decoration-color: #0087ff\">Dense</span>)                 │ (<span style=\"color: #00d7ff; text-decoration-color: #00d7ff\">None</span>, <span style=\"color: #00af00; text-decoration-color: #00af00\">26</span>)             │         <span style=\"color: #00af00; text-decoration-color: #00af00\">1,690</span> │\n",
              "└─────────────────────────────────┴────────────────────────┴───────────────┘\n",
              "</pre>\n"
            ]
          },
          "metadata": {}
        },
        {
          "output_type": "display_data",
          "data": {
            "text/plain": [
              "\u001b[1m Total params: \u001b[0m\u001b[38;5;34m56,858\u001b[0m (222.10 KB)\n"
            ],
            "text/html": [
              "<pre style=\"white-space:pre;overflow-x:auto;line-height:normal;font-family:Menlo,'DejaVu Sans Mono',consolas,'Courier New',monospace\"><span style=\"font-weight: bold\"> Total params: </span><span style=\"color: #00af00; text-decoration-color: #00af00\">56,858</span> (222.10 KB)\n",
              "</pre>\n"
            ]
          },
          "metadata": {}
        },
        {
          "output_type": "display_data",
          "data": {
            "text/plain": [
              "\u001b[1m Trainable params: \u001b[0m\u001b[38;5;34m56,346\u001b[0m (220.10 KB)\n"
            ],
            "text/html": [
              "<pre style=\"white-space:pre;overflow-x:auto;line-height:normal;font-family:Menlo,'DejaVu Sans Mono',consolas,'Courier New',monospace\"><span style=\"font-weight: bold\"> Trainable params: </span><span style=\"color: #00af00; text-decoration-color: #00af00\">56,346</span> (220.10 KB)\n",
              "</pre>\n"
            ]
          },
          "metadata": {}
        },
        {
          "output_type": "display_data",
          "data": {
            "text/plain": [
              "\u001b[1m Non-trainable params: \u001b[0m\u001b[38;5;34m512\u001b[0m (2.00 KB)\n"
            ],
            "text/html": [
              "<pre style=\"white-space:pre;overflow-x:auto;line-height:normal;font-family:Menlo,'DejaVu Sans Mono',consolas,'Courier New',monospace\"><span style=\"font-weight: bold\"> Non-trainable params: </span><span style=\"color: #00af00; text-decoration-color: #00af00\">512</span> (2.00 KB)\n",
              "</pre>\n"
            ]
          },
          "metadata": {}
        },
        {
          "output_type": "stream",
          "name": "stdout",
          "text": [
            "\n",
            "🚀 Starting Training...\n",
            "\n",
            "Epoch 1/150\n",
            "\u001b[1m752/755\u001b[0m \u001b[32m━━━━━━━━━━━━━━━━━━━\u001b[0m\u001b[37m━\u001b[0m \u001b[1m0s\u001b[0m 23ms/step - accuracy: 0.3056 - loss: 2.2949\n",
            "Epoch 1: val_accuracy improved from -inf to 0.90779, saving model to model/best_asl_model.h5\n"
          ]
        },
        {
          "output_type": "stream",
          "name": "stderr",
          "text": [
            "WARNING:absl:You are saving your model as an HDF5 file via `model.save()` or `keras.saving.save_model(model)`. This file format is considered legacy. We recommend using instead the native Keras format, e.g. `model.save('my_model.keras')` or `keras.saving.save_model(model, 'my_model.keras')`. \n"
          ]
        },
        {
          "output_type": "stream",
          "name": "stdout",
          "text": [
            "\b\b\b\b\b\b\b\b\b\b\b\b\b\b\b\b\b\b\b\b\b\b\b\b\b\b\b\b\b\b\b\b\b\b\b\b\b\b\b\b\b\b\b\b\b\b\b\b\b\b\b\b\b\b\b\b\b\b\b\b\b\b\b\b\b\b\b\b\b\b\b\b\b\b\b\r\u001b[1m755/755\u001b[0m \u001b[32m━━━━━━━━━━━━━━━━━━━━\u001b[0m\u001b[37m\u001b[0m \u001b[1m22s\u001b[0m 25ms/step - accuracy: 0.3068 - loss: 2.2910 - val_accuracy: 0.9078 - val_loss: 0.3528 - learning_rate: 0.0010\n",
            "Epoch 2/150\n",
            "\u001b[1m754/755\u001b[0m \u001b[32m━━━━━━━━━━━━━━━━━━━\u001b[0m\u001b[37m━\u001b[0m \u001b[1m0s\u001b[0m 22ms/step - accuracy: 0.8351 - loss: 0.5180\n",
            "Epoch 2: val_accuracy improved from 0.90779 to 0.95534, saving model to model/best_asl_model.h5\n"
          ]
        },
        {
          "output_type": "stream",
          "name": "stderr",
          "text": [
            "WARNING:absl:You are saving your model as an HDF5 file via `model.save()` or `keras.saving.save_model(model)`. This file format is considered legacy. We recommend using instead the native Keras format, e.g. `model.save('my_model.keras')` or `keras.saving.save_model(model, 'my_model.keras')`. \n"
          ]
        },
        {
          "output_type": "stream",
          "name": "stdout",
          "text": [
            "\b\b\b\b\b\b\b\b\b\b\b\b\b\b\b\b\b\b\b\b\b\b\b\b\b\b\b\b\b\b\b\b\b\b\b\b\b\b\b\b\b\b\b\b\b\b\b\b\b\b\b\b\b\b\b\b\b\b\b\b\b\b\b\b\b\b\b\b\b\b\b\b\b\b\b\r\u001b[1m755/755\u001b[0m \u001b[32m━━━━━━━━━━━━━━━━━━━━\u001b[0m\u001b[37m\u001b[0m \u001b[1m18s\u001b[0m 24ms/step - accuracy: 0.8351 - loss: 0.5178 - val_accuracy: 0.9553 - val_loss: 0.1565 - learning_rate: 0.0010\n",
            "Epoch 3/150\n",
            "\u001b[1m754/755\u001b[0m \u001b[32m━━━━━━━━━━━━━━━━━━━\u001b[0m\u001b[37m━\u001b[0m \u001b[1m0s\u001b[0m 22ms/step - accuracy: 0.9050 - loss: 0.3155\n",
            "Epoch 3: val_accuracy improved from 0.95534 to 0.96885, saving model to model/best_asl_model.h5\n"
          ]
        },
        {
          "output_type": "stream",
          "name": "stderr",
          "text": [
            "WARNING:absl:You are saving your model as an HDF5 file via `model.save()` or `keras.saving.save_model(model)`. This file format is considered legacy. We recommend using instead the native Keras format, e.g. `model.save('my_model.keras')` or `keras.saving.save_model(model, 'my_model.keras')`. \n"
          ]
        },
        {
          "output_type": "stream",
          "name": "stdout",
          "text": [
            "\b\b\b\b\b\b\b\b\b\b\b\b\b\b\b\b\b\b\b\b\b\b\b\b\b\b\b\b\b\b\b\b\b\b\b\b\b\b\b\b\b\b\b\b\b\b\b\b\b\b\b\b\b\b\b\b\b\b\b\b\b\b\b\b\b\b\b\b\b\b\b\b\b\b\b\r\u001b[1m755/755\u001b[0m \u001b[32m━━━━━━━━━━━━━━━━━━━━\u001b[0m\u001b[37m\u001b[0m \u001b[1m19s\u001b[0m 25ms/step - accuracy: 0.9050 - loss: 0.3154 - val_accuracy: 0.9688 - val_loss: 0.1104 - learning_rate: 0.0010\n",
            "Epoch 4/150\n",
            "\u001b[1m753/755\u001b[0m \u001b[32m━━━━━━━━━━━━━━━━━━━\u001b[0m\u001b[37m━\u001b[0m \u001b[1m0s\u001b[0m 22ms/step - accuracy: 0.9279 - loss: 0.2413\n",
            "Epoch 4: val_accuracy improved from 0.96885 to 0.97142, saving model to model/best_asl_model.h5\n"
          ]
        },
        {
          "output_type": "stream",
          "name": "stderr",
          "text": [
            "WARNING:absl:You are saving your model as an HDF5 file via `model.save()` or `keras.saving.save_model(model)`. This file format is considered legacy. We recommend using instead the native Keras format, e.g. `model.save('my_model.keras')` or `keras.saving.save_model(model, 'my_model.keras')`. \n"
          ]
        },
        {
          "output_type": "stream",
          "name": "stdout",
          "text": [
            "\b\b\b\b\b\b\b\b\b\b\b\b\b\b\b\b\b\b\b\b\b\b\b\b\b\b\b\b\b\b\b\b\b\b\b\b\b\b\b\b\b\b\b\b\b\b\b\b\b\b\b\b\b\b\b\b\b\b\b\b\b\b\b\b\b\b\b\b\b\b\b\b\b\b\b\r\u001b[1m755/755\u001b[0m \u001b[32m━━━━━━━━━━━━━━━━━━━━\u001b[0m\u001b[37m\u001b[0m \u001b[1m20s\u001b[0m 24ms/step - accuracy: 0.9280 - loss: 0.2413 - val_accuracy: 0.9714 - val_loss: 0.0967 - learning_rate: 0.0010\n",
            "Epoch 5/150\n",
            "\u001b[1m753/755\u001b[0m \u001b[32m━━━━━━━━━━━━━━━━━━━\u001b[0m\u001b[37m━\u001b[0m \u001b[1m0s\u001b[0m 24ms/step - accuracy: 0.9407 - loss: 0.2035\n",
            "Epoch 5: val_accuracy improved from 0.97142 to 0.97556, saving model to model/best_asl_model.h5\n"
          ]
        },
        {
          "output_type": "stream",
          "name": "stderr",
          "text": [
            "WARNING:absl:You are saving your model as an HDF5 file via `model.save()` or `keras.saving.save_model(model)`. This file format is considered legacy. We recommend using instead the native Keras format, e.g. `model.save('my_model.keras')` or `keras.saving.save_model(model, 'my_model.keras')`. \n"
          ]
        },
        {
          "output_type": "stream",
          "name": "stdout",
          "text": [
            "\b\b\b\b\b\b\b\b\b\b\b\b\b\b\b\b\b\b\b\b\b\b\b\b\b\b\b\b\b\b\b\b\b\b\b\b\b\b\b\b\b\b\b\b\b\b\b\b\b\b\b\b\b\b\b\b\b\b\b\b\b\b\b\b\b\b\b\b\b\b\b\b\b\b\b\r\u001b[1m755/755\u001b[0m \u001b[32m━━━━━━━━━━━━━━━━━━━━\u001b[0m\u001b[37m\u001b[0m \u001b[1m22s\u001b[0m 26ms/step - accuracy: 0.9408 - loss: 0.2034 - val_accuracy: 0.9756 - val_loss: 0.0878 - learning_rate: 0.0010\n",
            "Epoch 6/150\n",
            "\u001b[1m752/755\u001b[0m \u001b[32m━━━━━━━━━━━━━━━━━━━\u001b[0m\u001b[37m━\u001b[0m \u001b[1m0s\u001b[0m 22ms/step - accuracy: 0.9457 - loss: 0.1884\n",
            "Epoch 6: val_accuracy improved from 0.97556 to 0.98169, saving model to model/best_asl_model.h5\n"
          ]
        },
        {
          "output_type": "stream",
          "name": "stderr",
          "text": [
            "WARNING:absl:You are saving your model as an HDF5 file via `model.save()` or `keras.saving.save_model(model)`. This file format is considered legacy. We recommend using instead the native Keras format, e.g. `model.save('my_model.keras')` or `keras.saving.save_model(model, 'my_model.keras')`. \n"
          ]
        },
        {
          "output_type": "stream",
          "name": "stdout",
          "text": [
            "\b\b\b\b\b\b\b\b\b\b\b\b\b\b\b\b\b\b\b\b\b\b\b\b\b\b\b\b\b\b\b\b\b\b\b\b\b\b\b\b\b\b\b\b\b\b\b\b\b\b\b\b\b\b\b\b\b\b\b\b\b\b\b\b\b\b\b\b\b\b\b\b\b\b\b\r\u001b[1m755/755\u001b[0m \u001b[32m━━━━━━━━━━━━━━━━━━━━\u001b[0m\u001b[37m\u001b[0m \u001b[1m18s\u001b[0m 24ms/step - accuracy: 0.9457 - loss: 0.1884 - val_accuracy: 0.9817 - val_loss: 0.0665 - learning_rate: 0.0010\n",
            "Epoch 7/150\n",
            "\u001b[1m752/755\u001b[0m \u001b[32m━━━━━━━━━━━━━━━━━━━\u001b[0m\u001b[37m━\u001b[0m \u001b[1m0s\u001b[0m 24ms/step - accuracy: 0.9507 - loss: 0.1691\n",
            "Epoch 7: val_accuracy did not improve from 0.98169\n",
            "\u001b[1m755/755\u001b[0m \u001b[32m━━━━━━━━━━━━━━━━━━━━\u001b[0m\u001b[37m\u001b[0m \u001b[1m21s\u001b[0m 25ms/step - accuracy: 0.9507 - loss: 0.1691 - val_accuracy: 0.9814 - val_loss: 0.0664 - learning_rate: 0.0010\n",
            "Epoch 8/150\n",
            "\u001b[1m752/755\u001b[0m \u001b[32m━━━━━━━━━━━━━━━━━━━\u001b[0m\u001b[37m━\u001b[0m \u001b[1m0s\u001b[0m 22ms/step - accuracy: 0.9542 - loss: 0.1528\n",
            "Epoch 8: val_accuracy improved from 0.98169 to 0.98467, saving model to model/best_asl_model.h5\n"
          ]
        },
        {
          "output_type": "stream",
          "name": "stderr",
          "text": [
            "WARNING:absl:You are saving your model as an HDF5 file via `model.save()` or `keras.saving.save_model(model)`. This file format is considered legacy. We recommend using instead the native Keras format, e.g. `model.save('my_model.keras')` or `keras.saving.save_model(model, 'my_model.keras')`. \n"
          ]
        },
        {
          "output_type": "stream",
          "name": "stdout",
          "text": [
            "\b\b\b\b\b\b\b\b\b\b\b\b\b\b\b\b\b\b\b\b\b\b\b\b\b\b\b\b\b\b\b\b\b\b\b\b\b\b\b\b\b\b\b\b\b\b\b\b\b\b\b\b\b\b\b\b\b\b\b\b\b\b\b\b\b\b\b\b\b\b\b\b\b\b\b\r\u001b[1m755/755\u001b[0m \u001b[32m━━━━━━━━━━━━━━━━━━━━\u001b[0m\u001b[37m\u001b[0m \u001b[1m18s\u001b[0m 23ms/step - accuracy: 0.9542 - loss: 0.1528 - val_accuracy: 0.9847 - val_loss: 0.0589 - learning_rate: 0.0010\n",
            "Epoch 9/150\n",
            "\u001b[1m754/755\u001b[0m \u001b[32m━━━━━━━━━━━━━━━━━━━\u001b[0m\u001b[37m━\u001b[0m \u001b[1m0s\u001b[0m 22ms/step - accuracy: 0.9591 - loss: 0.1455\n",
            "Epoch 9: val_accuracy did not improve from 0.98467\n",
            "\u001b[1m755/755\u001b[0m \u001b[32m━━━━━━━━━━━━━━━━━━━━\u001b[0m\u001b[37m\u001b[0m \u001b[1m18s\u001b[0m 23ms/step - accuracy: 0.9591 - loss: 0.1455 - val_accuracy: 0.9833 - val_loss: 0.0560 - learning_rate: 0.0010\n",
            "Epoch 10/150\n",
            "\u001b[1m753/755\u001b[0m \u001b[32m━━━━━━━━━━━━━━━━━━━\u001b[0m\u001b[37m━\u001b[0m \u001b[1m0s\u001b[0m 23ms/step - accuracy: 0.9581 - loss: 0.1420\n",
            "Epoch 10: val_accuracy did not improve from 0.98467\n",
            "\u001b[1m755/755\u001b[0m \u001b[32m━━━━━━━━━━━━━━━━━━━━\u001b[0m\u001b[37m\u001b[0m \u001b[1m19s\u001b[0m 25ms/step - accuracy: 0.9581 - loss: 0.1420 - val_accuracy: 0.9835 - val_loss: 0.0581 - learning_rate: 0.0010\n",
            "Epoch 11/150\n",
            "\u001b[1m753/755\u001b[0m \u001b[32m━━━━━━━━━━━━━━━━━━━\u001b[0m\u001b[37m━\u001b[0m \u001b[1m0s\u001b[0m 22ms/step - accuracy: 0.9594 - loss: 0.1404\n",
            "Epoch 11: val_accuracy did not improve from 0.98467\n",
            "\u001b[1m755/755\u001b[0m \u001b[32m━━━━━━━━━━━━━━━━━━━━\u001b[0m\u001b[37m\u001b[0m \u001b[1m19s\u001b[0m 23ms/step - accuracy: 0.9594 - loss: 0.1404 - val_accuracy: 0.9822 - val_loss: 0.0667 - learning_rate: 0.0010\n",
            "Epoch 12/150\n",
            "\u001b[1m755/755\u001b[0m \u001b[32m━━━━━━━━━━━━━━━━━━━━\u001b[0m\u001b[37m\u001b[0m \u001b[1m0s\u001b[0m 23ms/step - accuracy: 0.9620 - loss: 0.1327\n",
            "Epoch 12: val_accuracy improved from 0.98467 to 0.98492, saving model to model/best_asl_model.h5\n"
          ]
        },
        {
          "output_type": "stream",
          "name": "stderr",
          "text": [
            "WARNING:absl:You are saving your model as an HDF5 file via `model.save()` or `keras.saving.save_model(model)`. This file format is considered legacy. We recommend using instead the native Keras format, e.g. `model.save('my_model.keras')` or `keras.saving.save_model(model, 'my_model.keras')`. \n"
          ]
        },
        {
          "output_type": "stream",
          "name": "stdout",
          "text": [
            "\b\b\b\b\b\b\b\b\b\b\b\b\b\b\b\b\b\b\b\b\b\b\b\b\b\b\b\b\b\b\b\b\b\b\b\b\b\b\b\b\b\b\b\b\b\b\b\b\b\b\b\b\b\b\b\b\b\b\b\b\b\b\b\b\b\b\b\b\b\b\b\b\b\b\b\r\u001b[1m755/755\u001b[0m \u001b[32m━━━━━━━━━━━━━━━━━━━━\u001b[0m\u001b[37m\u001b[0m \u001b[1m18s\u001b[0m 24ms/step - accuracy: 0.9620 - loss: 0.1327 - val_accuracy: 0.9849 - val_loss: 0.0495 - learning_rate: 0.0010\n",
            "Epoch 13/150\n",
            "\u001b[1m754/755\u001b[0m \u001b[32m━━━━━━━━━━━━━━━━━━━\u001b[0m\u001b[37m━\u001b[0m \u001b[1m0s\u001b[0m 21ms/step - accuracy: 0.9641 - loss: 0.1187\n",
            "Epoch 13: val_accuracy improved from 0.98492 to 0.98658, saving model to model/best_asl_model.h5\n"
          ]
        },
        {
          "output_type": "stream",
          "name": "stderr",
          "text": [
            "WARNING:absl:You are saving your model as an HDF5 file via `model.save()` or `keras.saving.save_model(model)`. This file format is considered legacy. We recommend using instead the native Keras format, e.g. `model.save('my_model.keras')` or `keras.saving.save_model(model, 'my_model.keras')`. \n"
          ]
        },
        {
          "output_type": "stream",
          "name": "stdout",
          "text": [
            "\b\b\b\b\b\b\b\b\b\b\b\b\b\b\b\b\b\b\b\b\b\b\b\b\b\b\b\b\b\b\b\b\b\b\b\b\b\b\b\b\b\b\b\b\b\b\b\b\b\b\b\b\b\b\b\b\b\b\b\b\b\b\b\b\b\b\b\b\b\b\b\b\b\b\b\r\u001b[1m755/755\u001b[0m \u001b[32m━━━━━━━━━━━━━━━━━━━━\u001b[0m\u001b[37m\u001b[0m \u001b[1m17s\u001b[0m 23ms/step - accuracy: 0.9641 - loss: 0.1187 - val_accuracy: 0.9866 - val_loss: 0.0481 - learning_rate: 0.0010\n",
            "Epoch 14/150\n",
            "\u001b[1m753/755\u001b[0m \u001b[32m━━━━━━━━━━━━━━━━━━━\u001b[0m\u001b[37m━\u001b[0m \u001b[1m0s\u001b[0m 22ms/step - accuracy: 0.9651 - loss: 0.1194\n",
            "Epoch 14: val_accuracy did not improve from 0.98658\n",
            "\u001b[1m755/755\u001b[0m \u001b[32m━━━━━━━━━━━━━━━━━━━━\u001b[0m\u001b[37m\u001b[0m \u001b[1m23s\u001b[0m 26ms/step - accuracy: 0.9651 - loss: 0.1194 - val_accuracy: 0.9857 - val_loss: 0.0513 - learning_rate: 0.0010\n",
            "Epoch 15/150\n",
            "\u001b[1m753/755\u001b[0m \u001b[32m━━━━━━━━━━━━━━━━━━━\u001b[0m\u001b[37m━\u001b[0m \u001b[1m0s\u001b[0m 22ms/step - accuracy: 0.9646 - loss: 0.1235\n",
            "Epoch 15: val_accuracy did not improve from 0.98658\n",
            "\u001b[1m755/755\u001b[0m \u001b[32m━━━━━━━━━━━━━━━━━━━━\u001b[0m\u001b[37m\u001b[0m \u001b[1m19s\u001b[0m 23ms/step - accuracy: 0.9646 - loss: 0.1235 - val_accuracy: 0.9858 - val_loss: 0.0491 - learning_rate: 0.0010\n",
            "Epoch 16/150\n",
            "\u001b[1m753/755\u001b[0m \u001b[32m━━━━━━━━━━━━━━━━━━━\u001b[0m\u001b[37m━\u001b[0m \u001b[1m0s\u001b[0m 23ms/step - accuracy: 0.9675 - loss: 0.1118\n",
            "Epoch 16: val_accuracy improved from 0.98658 to 0.98699, saving model to model/best_asl_model.h5\n"
          ]
        },
        {
          "output_type": "stream",
          "name": "stderr",
          "text": [
            "WARNING:absl:You are saving your model as an HDF5 file via `model.save()` or `keras.saving.save_model(model)`. This file format is considered legacy. We recommend using instead the native Keras format, e.g. `model.save('my_model.keras')` or `keras.saving.save_model(model, 'my_model.keras')`. \n"
          ]
        },
        {
          "output_type": "stream",
          "name": "stdout",
          "text": [
            "\b\b\b\b\b\b\b\b\b\b\b\b\b\b\b\b\b\b\b\b\b\b\b\b\b\b\b\b\b\b\b\b\b\b\b\b\b\b\b\b\b\b\b\b\b\b\b\b\b\b\b\b\b\b\b\b\b\b\b\b\b\b\b\b\b\b\b\b\b\b\b\b\b\b\b\r\u001b[1m755/755\u001b[0m \u001b[32m━━━━━━━━━━━━━━━━━━━━\u001b[0m\u001b[37m\u001b[0m \u001b[1m22s\u001b[0m 25ms/step - accuracy: 0.9675 - loss: 0.1118 - val_accuracy: 0.9870 - val_loss: 0.0440 - learning_rate: 0.0010\n",
            "Epoch 17/150\n",
            "\u001b[1m753/755\u001b[0m \u001b[32m━━━━━━━━━━━━━━━━━━━\u001b[0m\u001b[37m━\u001b[0m \u001b[1m0s\u001b[0m 22ms/step - accuracy: 0.9684 - loss: 0.1094\n",
            "Epoch 17: val_accuracy did not improve from 0.98699\n",
            "\u001b[1m755/755\u001b[0m \u001b[32m━━━━━━━━━━━━━━━━━━━━\u001b[0m\u001b[37m\u001b[0m \u001b[1m17s\u001b[0m 23ms/step - accuracy: 0.9684 - loss: 0.1094 - val_accuracy: 0.9866 - val_loss: 0.0480 - learning_rate: 0.0010\n",
            "Epoch 18/150\n",
            "\u001b[1m755/755\u001b[0m \u001b[32m━━━━━━━━━━━━━━━━━━━━\u001b[0m\u001b[37m\u001b[0m \u001b[1m0s\u001b[0m 24ms/step - accuracy: 0.9680 - loss: 0.1134\n",
            "Epoch 18: val_accuracy did not improve from 0.98699\n",
            "\u001b[1m755/755\u001b[0m \u001b[32m━━━━━━━━━━━━━━━━━━━━\u001b[0m\u001b[37m\u001b[0m \u001b[1m22s\u001b[0m 25ms/step - accuracy: 0.9680 - loss: 0.1134 - val_accuracy: 0.9859 - val_loss: 0.0482 - learning_rate: 0.0010\n",
            "Epoch 19/150\n",
            "\u001b[1m754/755\u001b[0m \u001b[32m━━━━━━━━━━━━━━━━━━━\u001b[0m\u001b[37m━\u001b[0m \u001b[1m0s\u001b[0m 22ms/step - accuracy: 0.9682 - loss: 0.1063\n",
            "Epoch 19: val_accuracy improved from 0.98699 to 0.98741, saving model to model/best_asl_model.h5\n"
          ]
        },
        {
          "output_type": "stream",
          "name": "stderr",
          "text": [
            "WARNING:absl:You are saving your model as an HDF5 file via `model.save()` or `keras.saving.save_model(model)`. This file format is considered legacy. We recommend using instead the native Keras format, e.g. `model.save('my_model.keras')` or `keras.saving.save_model(model, 'my_model.keras')`. \n"
          ]
        },
        {
          "output_type": "stream",
          "name": "stdout",
          "text": [
            "\b\b\b\b\b\b\b\b\b\b\b\b\b\b\b\b\b\b\b\b\b\b\b\b\b\b\b\b\b\b\b\b\b\b\b\b\b\b\b\b\b\b\b\b\b\b\b\b\b\b\b\b\b\b\b\b\b\b\b\b\b\b\b\b\b\b\b\b\b\b\b\b\b\b\b\r\u001b[1m755/755\u001b[0m \u001b[32m━━━━━━━━━━━━━━━━━━━━\u001b[0m\u001b[37m\u001b[0m \u001b[1m18s\u001b[0m 24ms/step - accuracy: 0.9682 - loss: 0.1063 - val_accuracy: 0.9874 - val_loss: 0.0435 - learning_rate: 0.0010\n",
            "Epoch 20/150\n",
            "\u001b[1m754/755\u001b[0m \u001b[32m━━━━━━━━━━━━━━━━━━━\u001b[0m\u001b[37m━\u001b[0m \u001b[1m0s\u001b[0m 22ms/step - accuracy: 0.9678 - loss: 0.1121\n",
            "Epoch 20: val_accuracy did not improve from 0.98741\n",
            "\u001b[1m755/755\u001b[0m \u001b[32m━━━━━━━━━━━━━━━━━━━━\u001b[0m\u001b[37m\u001b[0m \u001b[1m19s\u001b[0m 26ms/step - accuracy: 0.9678 - loss: 0.1121 - val_accuracy: 0.9857 - val_loss: 0.0492 - learning_rate: 0.0010\n",
            "Epoch 21/150\n",
            "\u001b[1m753/755\u001b[0m \u001b[32m━━━━━━━━━━━━━━━━━━━\u001b[0m\u001b[37m━\u001b[0m \u001b[1m0s\u001b[0m 22ms/step - accuracy: 0.9695 - loss: 0.1044\n",
            "Epoch 21: val_accuracy did not improve from 0.98741\n",
            "\u001b[1m755/755\u001b[0m \u001b[32m━━━━━━━━━━━━━━━━━━━━\u001b[0m\u001b[37m\u001b[0m \u001b[1m18s\u001b[0m 24ms/step - accuracy: 0.9695 - loss: 0.1044 - val_accuracy: 0.9863 - val_loss: 0.0494 - learning_rate: 0.0010\n",
            "Epoch 22/150\n",
            "\u001b[1m754/755\u001b[0m \u001b[32m━━━━━━━━━━━━━━━━━━━\u001b[0m\u001b[37m━\u001b[0m \u001b[1m0s\u001b[0m 23ms/step - accuracy: 0.9698 - loss: 0.1000\n",
            "Epoch 22: val_accuracy improved from 0.98741 to 0.98882, saving model to model/best_asl_model.h5\n"
          ]
        },
        {
          "output_type": "stream",
          "name": "stderr",
          "text": [
            "WARNING:absl:You are saving your model as an HDF5 file via `model.save()` or `keras.saving.save_model(model)`. This file format is considered legacy. We recommend using instead the native Keras format, e.g. `model.save('my_model.keras')` or `keras.saving.save_model(model, 'my_model.keras')`. \n"
          ]
        },
        {
          "output_type": "stream",
          "name": "stdout",
          "text": [
            "\b\b\b\b\b\b\b\b\b\b\b\b\b\b\b\b\b\b\b\b\b\b\b\b\b\b\b\b\b\b\b\b\b\b\b\b\b\b\b\b\b\b\b\b\b\b\b\b\b\b\b\b\b\b\b\b\b\b\b\b\b\b\b\b\b\b\b\b\b\b\b\b\b\b\b\r\u001b[1m755/755\u001b[0m \u001b[32m━━━━━━━━━━━━━━━━━━━━\u001b[0m\u001b[37m\u001b[0m \u001b[1m23s\u001b[0m 27ms/step - accuracy: 0.9698 - loss: 0.1000 - val_accuracy: 0.9888 - val_loss: 0.0400 - learning_rate: 0.0010\n",
            "Epoch 23/150\n",
            "\u001b[1m752/755\u001b[0m \u001b[32m━━━━━━━━━━━━━━━━━━━\u001b[0m\u001b[37m━\u001b[0m \u001b[1m0s\u001b[0m 22ms/step - accuracy: 0.9719 - loss: 0.1009\n",
            "Epoch 23: val_accuracy improved from 0.98882 to 0.98956, saving model to model/best_asl_model.h5\n"
          ]
        },
        {
          "output_type": "stream",
          "name": "stderr",
          "text": [
            "WARNING:absl:You are saving your model as an HDF5 file via `model.save()` or `keras.saving.save_model(model)`. This file format is considered legacy. We recommend using instead the native Keras format, e.g. `model.save('my_model.keras')` or `keras.saving.save_model(model, 'my_model.keras')`. \n"
          ]
        },
        {
          "output_type": "stream",
          "name": "stdout",
          "text": [
            "\b\b\b\b\b\b\b\b\b\b\b\b\b\b\b\b\b\b\b\b\b\b\b\b\b\b\b\b\b\b\b\b\b\b\b\b\b\b\b\b\b\b\b\b\b\b\b\b\b\b\b\b\b\b\b\b\b\b\b\b\b\b\b\b\b\b\b\b\b\b\b\b\b\b\b\r\u001b[1m755/755\u001b[0m \u001b[32m━━━━━━━━━━━━━━━━━━━━\u001b[0m\u001b[37m\u001b[0m \u001b[1m17s\u001b[0m 23ms/step - accuracy: 0.9719 - loss: 0.1009 - val_accuracy: 0.9896 - val_loss: 0.0401 - learning_rate: 0.0010\n",
            "Epoch 24/150\n",
            "\u001b[1m753/755\u001b[0m \u001b[32m━━━━━━━━━━━━━━━━━━━\u001b[0m\u001b[37m━\u001b[0m \u001b[1m0s\u001b[0m 23ms/step - accuracy: 0.9717 - loss: 0.0965\n",
            "Epoch 24: val_accuracy did not improve from 0.98956\n",
            "\u001b[1m755/755\u001b[0m \u001b[32m━━━━━━━━━━━━━━━━━━━━\u001b[0m\u001b[37m\u001b[0m \u001b[1m22s\u001b[0m 25ms/step - accuracy: 0.9717 - loss: 0.0965 - val_accuracy: 0.9885 - val_loss: 0.0401 - learning_rate: 0.0010\n",
            "Epoch 25/150\n",
            "\u001b[1m754/755\u001b[0m \u001b[32m━━━━━━━━━━━━━━━━━━━\u001b[0m\u001b[37m━\u001b[0m \u001b[1m0s\u001b[0m 22ms/step - accuracy: 0.9715 - loss: 0.0969\n",
            "Epoch 25: val_accuracy did not improve from 0.98956\n",
            "\u001b[1m755/755\u001b[0m \u001b[32m━━━━━━━━━━━━━━━━━━━━\u001b[0m\u001b[37m\u001b[0m \u001b[1m19s\u001b[0m 23ms/step - accuracy: 0.9715 - loss: 0.0969 - val_accuracy: 0.9887 - val_loss: 0.0433 - learning_rate: 0.0010\n",
            "Epoch 26/150\n",
            "\u001b[1m753/755\u001b[0m \u001b[32m━━━━━━━━━━━━━━━━━━━\u001b[0m\u001b[37m━\u001b[0m \u001b[1m0s\u001b[0m 21ms/step - accuracy: 0.9724 - loss: 0.0992\n",
            "Epoch 26: val_accuracy did not improve from 0.98956\n",
            "\u001b[1m755/755\u001b[0m \u001b[32m━━━━━━━━━━━━━━━━━━━━\u001b[0m\u001b[37m\u001b[0m \u001b[1m19s\u001b[0m 25ms/step - accuracy: 0.9724 - loss: 0.0992 - val_accuracy: 0.9887 - val_loss: 0.0427 - learning_rate: 0.0010\n",
            "Epoch 27/150\n",
            "\u001b[1m754/755\u001b[0m \u001b[32m━━━━━━━━━━━━━━━━━━━\u001b[0m\u001b[37m━\u001b[0m \u001b[1m0s\u001b[0m 22ms/step - accuracy: 0.9722 - loss: 0.0931\n",
            "Epoch 27: ReduceLROnPlateau reducing learning rate to 0.0005000000237487257.\n",
            "\n",
            "Epoch 27: val_accuracy did not improve from 0.98956\n",
            "\u001b[1m755/755\u001b[0m \u001b[32m━━━━━━━━━━━━━━━━━━━━\u001b[0m\u001b[37m\u001b[0m \u001b[1m18s\u001b[0m 24ms/step - accuracy: 0.9722 - loss: 0.0931 - val_accuracy: 0.9887 - val_loss: 0.0428 - learning_rate: 0.0010\n",
            "Epoch 28/150\n",
            "\u001b[1m754/755\u001b[0m \u001b[32m━━━━━━━━━━━━━━━━━━━\u001b[0m\u001b[37m━\u001b[0m \u001b[1m0s\u001b[0m 22ms/step - accuracy: 0.9765 - loss: 0.0818\n",
            "Epoch 28: val_accuracy did not improve from 0.98956\n",
            "\u001b[1m755/755\u001b[0m \u001b[32m━━━━━━━━━━━━━━━━━━━━\u001b[0m\u001b[37m\u001b[0m \u001b[1m18s\u001b[0m 23ms/step - accuracy: 0.9765 - loss: 0.0818 - val_accuracy: 0.9895 - val_loss: 0.0376 - learning_rate: 5.0000e-04\n",
            "Epoch 29/150\n",
            "\u001b[1m753/755\u001b[0m \u001b[32m━━━━━━━━━━━━━━━━━━━\u001b[0m\u001b[37m━\u001b[0m \u001b[1m0s\u001b[0m 21ms/step - accuracy: 0.9787 - loss: 0.0760\n",
            "Epoch 29: val_accuracy improved from 0.98956 to 0.99031, saving model to model/best_asl_model.h5\n"
          ]
        },
        {
          "output_type": "stream",
          "name": "stderr",
          "text": [
            "WARNING:absl:You are saving your model as an HDF5 file via `model.save()` or `keras.saving.save_model(model)`. This file format is considered legacy. We recommend using instead the native Keras format, e.g. `model.save('my_model.keras')` or `keras.saving.save_model(model, 'my_model.keras')`. \n"
          ]
        },
        {
          "output_type": "stream",
          "name": "stdout",
          "text": [
            "\b\b\b\b\b\b\b\b\b\b\b\b\b\b\b\b\b\b\b\b\b\b\b\b\b\b\b\b\b\b\b\b\b\b\b\b\b\b\b\b\b\b\b\b\b\b\b\b\b\b\b\b\b\b\b\b\b\b\b\b\b\b\b\b\b\b\b\b\b\b\b\b\b\b\b\r\u001b[1m755/755\u001b[0m \u001b[32m━━━━━━━━━━━━━━━━━━━━\u001b[0m\u001b[37m\u001b[0m \u001b[1m20s\u001b[0m 23ms/step - accuracy: 0.9787 - loss: 0.0760 - val_accuracy: 0.9903 - val_loss: 0.0360 - learning_rate: 5.0000e-04\n",
            "Epoch 30/150\n",
            "\u001b[1m754/755\u001b[0m \u001b[32m━━━━━━━━━━━━━━━━━━━\u001b[0m\u001b[37m━\u001b[0m \u001b[1m0s\u001b[0m 22ms/step - accuracy: 0.9780 - loss: 0.0745\n",
            "Epoch 30: val_accuracy improved from 0.99031 to 0.99039, saving model to model/best_asl_model.h5\n"
          ]
        },
        {
          "output_type": "stream",
          "name": "stderr",
          "text": [
            "WARNING:absl:You are saving your model as an HDF5 file via `model.save()` or `keras.saving.save_model(model)`. This file format is considered legacy. We recommend using instead the native Keras format, e.g. `model.save('my_model.keras')` or `keras.saving.save_model(model, 'my_model.keras')`. \n"
          ]
        },
        {
          "output_type": "stream",
          "name": "stdout",
          "text": [
            "\b\b\b\b\b\b\b\b\b\b\b\b\b\b\b\b\b\b\b\b\b\b\b\b\b\b\b\b\b\b\b\b\b\b\b\b\b\b\b\b\b\b\b\b\b\b\b\b\b\b\b\b\b\b\b\b\b\b\b\b\b\b\b\b\b\b\b\b\b\b\b\b\b\b\b\r\u001b[1m755/755\u001b[0m \u001b[32m━━━━━━━━━━━━━━━━━━━━\u001b[0m\u001b[37m\u001b[0m \u001b[1m23s\u001b[0m 26ms/step - accuracy: 0.9780 - loss: 0.0745 - val_accuracy: 0.9904 - val_loss: 0.0379 - learning_rate: 5.0000e-04\n",
            "Epoch 31/150\n",
            "\u001b[1m753/755\u001b[0m \u001b[32m━━━━━━━━━━━━━━━━━━━\u001b[0m\u001b[37m━\u001b[0m \u001b[1m0s\u001b[0m 22ms/step - accuracy: 0.9785 - loss: 0.0785\n",
            "Epoch 31: val_accuracy did not improve from 0.99039\n",
            "\u001b[1m755/755\u001b[0m \u001b[32m━━━━━━━━━━━━━━━━━━━━\u001b[0m\u001b[37m\u001b[0m \u001b[1m17s\u001b[0m 23ms/step - accuracy: 0.9785 - loss: 0.0785 - val_accuracy: 0.9901 - val_loss: 0.0382 - learning_rate: 5.0000e-04\n",
            "Epoch 32/150\n",
            "\u001b[1m754/755\u001b[0m \u001b[32m━━━━━━━━━━━━━━━━━━━\u001b[0m\u001b[37m━\u001b[0m \u001b[1m0s\u001b[0m 21ms/step - accuracy: 0.9785 - loss: 0.0773\n",
            "Epoch 32: val_accuracy improved from 0.99039 to 0.99105, saving model to model/best_asl_model.h5\n"
          ]
        },
        {
          "output_type": "stream",
          "name": "stderr",
          "text": [
            "WARNING:absl:You are saving your model as an HDF5 file via `model.save()` or `keras.saving.save_model(model)`. This file format is considered legacy. We recommend using instead the native Keras format, e.g. `model.save('my_model.keras')` or `keras.saving.save_model(model, 'my_model.keras')`. \n"
          ]
        },
        {
          "output_type": "stream",
          "name": "stdout",
          "text": [
            "\b\b\b\b\b\b\b\b\b\b\b\b\b\b\b\b\b\b\b\b\b\b\b\b\b\b\b\b\b\b\b\b\b\b\b\b\b\b\b\b\b\b\b\b\b\b\b\b\b\b\b\b\b\b\b\b\b\b\b\b\b\b\b\b\b\b\b\b\b\b\b\b\b\b\b\r\u001b[1m755/755\u001b[0m \u001b[32m━━━━━━━━━━━━━━━━━━━━\u001b[0m\u001b[37m\u001b[0m \u001b[1m17s\u001b[0m 23ms/step - accuracy: 0.9785 - loss: 0.0773 - val_accuracy: 0.9911 - val_loss: 0.0339 - learning_rate: 5.0000e-04\n",
            "Epoch 33/150\n",
            "\u001b[1m752/755\u001b[0m \u001b[32m━━━━━━━━━━━━━━━━━━━\u001b[0m\u001b[37m━\u001b[0m \u001b[1m0s\u001b[0m 22ms/step - accuracy: 0.9786 - loss: 0.0710\n",
            "Epoch 33: val_accuracy did not improve from 0.99105\n",
            "\u001b[1m755/755\u001b[0m \u001b[32m━━━━━━━━━━━━━━━━━━━━\u001b[0m\u001b[37m\u001b[0m \u001b[1m21s\u001b[0m 23ms/step - accuracy: 0.9786 - loss: 0.0710 - val_accuracy: 0.9910 - val_loss: 0.0366 - learning_rate: 5.0000e-04\n",
            "Epoch 34/150\n",
            "\u001b[1m755/755\u001b[0m \u001b[32m━━━━━━━━━━━━━━━━━━━━\u001b[0m\u001b[37m\u001b[0m \u001b[1m0s\u001b[0m 22ms/step - accuracy: 0.9808 - loss: 0.0664\n",
            "Epoch 34: val_accuracy did not improve from 0.99105\n",
            "\u001b[1m755/755\u001b[0m \u001b[32m━━━━━━━━━━━━━━━━━━━━\u001b[0m\u001b[37m\u001b[0m \u001b[1m18s\u001b[0m 23ms/step - accuracy: 0.9808 - loss: 0.0664 - val_accuracy: 0.9909 - val_loss: 0.0342 - learning_rate: 5.0000e-04\n",
            "Epoch 35/150\n",
            "\u001b[1m752/755\u001b[0m \u001b[32m━━━━━━━━━━━━━━━━━━━\u001b[0m\u001b[37m━\u001b[0m \u001b[1m0s\u001b[0m 22ms/step - accuracy: 0.9799 - loss: 0.0704\n",
            "Epoch 35: val_accuracy did not improve from 0.99105\n",
            "\u001b[1m755/755\u001b[0m \u001b[32m━━━━━━━━━━━━━━━━━━━━\u001b[0m\u001b[37m\u001b[0m \u001b[1m20s\u001b[0m 23ms/step - accuracy: 0.9798 - loss: 0.0704 - val_accuracy: 0.9895 - val_loss: 0.0371 - learning_rate: 5.0000e-04\n",
            "Epoch 36/150\n",
            "\u001b[1m753/755\u001b[0m \u001b[32m━━━━━━━━━━━━━━━━━━━\u001b[0m\u001b[37m━\u001b[0m \u001b[1m0s\u001b[0m 23ms/step - accuracy: 0.9800 - loss: 0.0697\n",
            "Epoch 36: val_accuracy did not improve from 0.99105\n",
            "\u001b[1m755/755\u001b[0m \u001b[32m━━━━━━━━━━━━━━━━━━━━\u001b[0m\u001b[37m\u001b[0m \u001b[1m23s\u001b[0m 26ms/step - accuracy: 0.9800 - loss: 0.0697 - val_accuracy: 0.9900 - val_loss: 0.0348 - learning_rate: 5.0000e-04\n",
            "Epoch 37/150\n",
            "\u001b[1m753/755\u001b[0m \u001b[32m━━━━━━━━━━━━━━━━━━━\u001b[0m\u001b[37m━\u001b[0m \u001b[1m0s\u001b[0m 22ms/step - accuracy: 0.9803 - loss: 0.0677\n",
            "Epoch 37: val_accuracy improved from 0.99105 to 0.99122, saving model to model/best_asl_model.h5\n"
          ]
        },
        {
          "output_type": "stream",
          "name": "stderr",
          "text": [
            "WARNING:absl:You are saving your model as an HDF5 file via `model.save()` or `keras.saving.save_model(model)`. This file format is considered legacy. We recommend using instead the native Keras format, e.g. `model.save('my_model.keras')` or `keras.saving.save_model(model, 'my_model.keras')`. \n"
          ]
        },
        {
          "output_type": "stream",
          "name": "stdout",
          "text": [
            "\b\b\b\b\b\b\b\b\b\b\b\b\b\b\b\b\b\b\b\b\b\b\b\b\b\b\b\b\b\b\b\b\b\b\b\b\b\b\b\b\b\b\b\b\b\b\b\b\b\b\b\b\b\b\b\b\b\b\b\b\b\b\b\b\b\b\b\b\b\b\b\b\b\b\b\r\u001b[1m755/755\u001b[0m \u001b[32m━━━━━━━━━━━━━━━━━━━━\u001b[0m\u001b[37m\u001b[0m \u001b[1m18s\u001b[0m 24ms/step - accuracy: 0.9803 - loss: 0.0677 - val_accuracy: 0.9912 - val_loss: 0.0314 - learning_rate: 5.0000e-04\n",
            "Epoch 38/150\n",
            "\u001b[1m753/755\u001b[0m \u001b[32m━━━━━━━━━━━━━━━━━━━\u001b[0m\u001b[37m━\u001b[0m \u001b[1m0s\u001b[0m 22ms/step - accuracy: 0.9797 - loss: 0.0687\n",
            "Epoch 38: val_accuracy did not improve from 0.99122\n",
            "\u001b[1m755/755\u001b[0m \u001b[32m━━━━━━━━━━━━━━━━━━━━\u001b[0m\u001b[37m\u001b[0m \u001b[1m18s\u001b[0m 23ms/step - accuracy: 0.9797 - loss: 0.0687 - val_accuracy: 0.9906 - val_loss: 0.0336 - learning_rate: 5.0000e-04\n",
            "Epoch 39/150\n",
            "\u001b[1m754/755\u001b[0m \u001b[32m━━━━━━━━━━━━━━━━━━━\u001b[0m\u001b[37m━\u001b[0m \u001b[1m0s\u001b[0m 23ms/step - accuracy: 0.9811 - loss: 0.0676\n",
            "Epoch 39: val_accuracy did not improve from 0.99122\n",
            "\u001b[1m755/755\u001b[0m \u001b[32m━━━━━━━━━━━━━━━━━━━━\u001b[0m\u001b[37m\u001b[0m \u001b[1m19s\u001b[0m 25ms/step - accuracy: 0.9811 - loss: 0.0676 - val_accuracy: 0.9905 - val_loss: 0.0339 - learning_rate: 5.0000e-04\n",
            "Epoch 40/150\n",
            "\u001b[1m754/755\u001b[0m \u001b[32m━━━━━━━━━━━━━━━━━━━\u001b[0m\u001b[37m━\u001b[0m \u001b[1m0s\u001b[0m 22ms/step - accuracy: 0.9806 - loss: 0.0670\n",
            "Epoch 40: val_accuracy did not improve from 0.99122\n",
            "\u001b[1m755/755\u001b[0m \u001b[32m━━━━━━━━━━━━━━━━━━━━\u001b[0m\u001b[37m\u001b[0m \u001b[1m19s\u001b[0m 23ms/step - accuracy: 0.9806 - loss: 0.0670 - val_accuracy: 0.9901 - val_loss: 0.0346 - learning_rate: 5.0000e-04\n",
            "Epoch 41/150\n",
            "\u001b[1m752/755\u001b[0m \u001b[32m━━━━━━━━━━━━━━━━━━━\u001b[0m\u001b[37m━\u001b[0m \u001b[1m0s\u001b[0m 22ms/step - accuracy: 0.9804 - loss: 0.0727\n",
            "Epoch 41: val_accuracy did not improve from 0.99122\n",
            "\u001b[1m755/755\u001b[0m \u001b[32m━━━━━━━━━━━━━━━━━━━━\u001b[0m\u001b[37m\u001b[0m \u001b[1m20s\u001b[0m 23ms/step - accuracy: 0.9805 - loss: 0.0726 - val_accuracy: 0.9906 - val_loss: 0.0351 - learning_rate: 5.0000e-04\n",
            "Epoch 42/150\n",
            "\u001b[1m753/755\u001b[0m \u001b[32m━━━━━━━━━━━━━━━━━━━\u001b[0m\u001b[37m━\u001b[0m \u001b[1m0s\u001b[0m 22ms/step - accuracy: 0.9802 - loss: 0.0691\n",
            "Epoch 42: ReduceLROnPlateau reducing learning rate to 0.0002500000118743628.\n",
            "\n",
            "Epoch 42: val_accuracy did not improve from 0.99122\n",
            "\u001b[1m755/755\u001b[0m \u001b[32m━━━━━━━━━━━━━━━━━━━━\u001b[0m\u001b[37m\u001b[0m \u001b[1m18s\u001b[0m 23ms/step - accuracy: 0.9802 - loss: 0.0691 - val_accuracy: 0.9902 - val_loss: 0.0358 - learning_rate: 5.0000e-04\n",
            "Epoch 43/150\n",
            "\u001b[1m755/755\u001b[0m \u001b[32m━━━━━━━━━━━━━━━━━━━━\u001b[0m\u001b[37m\u001b[0m \u001b[1m0s\u001b[0m 22ms/step - accuracy: 0.9830 - loss: 0.0593\n",
            "Epoch 43: val_accuracy improved from 0.99122 to 0.99147, saving model to model/best_asl_model.h5\n"
          ]
        },
        {
          "output_type": "stream",
          "name": "stderr",
          "text": [
            "WARNING:absl:You are saving your model as an HDF5 file via `model.save()` or `keras.saving.save_model(model)`. This file format is considered legacy. We recommend using instead the native Keras format, e.g. `model.save('my_model.keras')` or `keras.saving.save_model(model, 'my_model.keras')`. \n"
          ]
        },
        {
          "output_type": "stream",
          "name": "stdout",
          "text": [
            "\b\b\b\b\b\b\b\b\b\b\b\b\b\b\b\b\b\b\b\b\b\b\b\b\b\b\b\b\b\b\b\b\b\b\b\b\b\b\b\b\b\b\b\b\b\b\b\b\b\b\b\b\b\b\b\b\b\b\b\b\b\b\b\b\b\b\b\b\b\b\b\b\b\b\b\r\u001b[1m755/755\u001b[0m \u001b[32m━━━━━━━━━━━━━━━━━━━━\u001b[0m\u001b[37m\u001b[0m \u001b[1m21s\u001b[0m 23ms/step - accuracy: 0.9830 - loss: 0.0593 - val_accuracy: 0.9915 - val_loss: 0.0338 - learning_rate: 2.5000e-04\n",
            "Epoch 44/150\n",
            "\u001b[1m754/755\u001b[0m \u001b[32m━━━━━━━━━━━━━━━━━━━\u001b[0m\u001b[37m━\u001b[0m \u001b[1m0s\u001b[0m 24ms/step - accuracy: 0.9844 - loss: 0.0566\n",
            "Epoch 44: val_accuracy did not improve from 0.99147\n",
            "\u001b[1m755/755\u001b[0m \u001b[32m━━━━━━━━━━━━━━━━━━━━\u001b[0m\u001b[37m\u001b[0m \u001b[1m24s\u001b[0m 28ms/step - accuracy: 0.9844 - loss: 0.0566 - val_accuracy: 0.9910 - val_loss: 0.0344 - learning_rate: 2.5000e-04\n",
            "Epoch 45/150\n",
            "\u001b[1m752/755\u001b[0m \u001b[32m━━━━━━━━━━━━━━━━━━━\u001b[0m\u001b[37m━\u001b[0m \u001b[1m0s\u001b[0m 22ms/step - accuracy: 0.9818 - loss: 0.0599\n",
            "Epoch 45: val_accuracy did not improve from 0.99147\n",
            "\u001b[1m755/755\u001b[0m \u001b[32m━━━━━━━━━━━━━━━━━━━━\u001b[0m\u001b[37m\u001b[0m \u001b[1m18s\u001b[0m 24ms/step - accuracy: 0.9818 - loss: 0.0599 - val_accuracy: 0.9911 - val_loss: 0.0330 - learning_rate: 2.5000e-04\n",
            "Epoch 46/150\n",
            "\u001b[1m752/755\u001b[0m \u001b[32m━━━━━━━━━━━━━━━━━━━\u001b[0m\u001b[37m━\u001b[0m \u001b[1m0s\u001b[0m 23ms/step - accuracy: 0.9836 - loss: 0.0550\n",
            "Epoch 46: val_accuracy did not improve from 0.99147\n",
            "\u001b[1m755/755\u001b[0m \u001b[32m━━━━━━━━━━━━━━━━━━━━\u001b[0m\u001b[37m\u001b[0m \u001b[1m21s\u001b[0m 25ms/step - accuracy: 0.9836 - loss: 0.0550 - val_accuracy: 0.9908 - val_loss: 0.0327 - learning_rate: 2.5000e-04\n",
            "Epoch 47/150\n",
            "\u001b[1m753/755\u001b[0m \u001b[32m━━━━━━━━━━━━━━━━━━━\u001b[0m\u001b[37m━\u001b[0m \u001b[1m0s\u001b[0m 22ms/step - accuracy: 0.9826 - loss: 0.0611\n",
            "Epoch 47: ReduceLROnPlateau reducing learning rate to 0.0001250000059371814.\n",
            "\n",
            "Epoch 47: val_accuracy did not improve from 0.99147\n",
            "\u001b[1m755/755\u001b[0m \u001b[32m━━━━━━━━━━━━━━━━━━━━\u001b[0m\u001b[37m\u001b[0m \u001b[1m18s\u001b[0m 23ms/step - accuracy: 0.9826 - loss: 0.0611 - val_accuracy: 0.9912 - val_loss: 0.0318 - learning_rate: 2.5000e-04\n",
            "Epoch 48/150\n",
            "\u001b[1m753/755\u001b[0m \u001b[32m━━━━━━━━━━━━━━━━━━━\u001b[0m\u001b[37m━\u001b[0m \u001b[1m0s\u001b[0m 24ms/step - accuracy: 0.9838 - loss: 0.0565\n",
            "Epoch 48: val_accuracy did not improve from 0.99147\n",
            "\u001b[1m755/755\u001b[0m \u001b[32m━━━━━━━━━━━━━━━━━━━━\u001b[0m\u001b[37m\u001b[0m \u001b[1m22s\u001b[0m 25ms/step - accuracy: 0.9838 - loss: 0.0565 - val_accuracy: 0.9912 - val_loss: 0.0322 - learning_rate: 1.2500e-04\n",
            "Epoch 49/150\n",
            "\u001b[1m753/755\u001b[0m \u001b[32m━━━━━━━━━━━━━━━━━━━\u001b[0m\u001b[37m━\u001b[0m \u001b[1m0s\u001b[0m 22ms/step - accuracy: 0.9836 - loss: 0.0541\n",
            "Epoch 49: val_accuracy did not improve from 0.99147\n",
            "\u001b[1m755/755\u001b[0m \u001b[32m━━━━━━━━━━━━━━━━━━━━\u001b[0m\u001b[37m\u001b[0m \u001b[1m19s\u001b[0m 23ms/step - accuracy: 0.9836 - loss: 0.0541 - val_accuracy: 0.9914 - val_loss: 0.0317 - learning_rate: 1.2500e-04\n",
            "Epoch 50/150\n",
            "\u001b[1m753/755\u001b[0m \u001b[32m━━━━━━━━━━━━━━━━━━━\u001b[0m\u001b[37m━\u001b[0m \u001b[1m0s\u001b[0m 22ms/step - accuracy: 0.9851 - loss: 0.0506\n",
            "Epoch 50: val_accuracy did not improve from 0.99147\n",
            "\u001b[1m755/755\u001b[0m \u001b[32m━━━━━━━━━━━━━━━━━━━━\u001b[0m\u001b[37m\u001b[0m \u001b[1m19s\u001b[0m 26ms/step - accuracy: 0.9851 - loss: 0.0506 - val_accuracy: 0.9915 - val_loss: 0.0308 - learning_rate: 1.2500e-04\n",
            "Epoch 51/150\n",
            "\u001b[1m753/755\u001b[0m \u001b[32m━━━━━━━━━━━━━━━━━━━\u001b[0m\u001b[37m━\u001b[0m \u001b[1m0s\u001b[0m 22ms/step - accuracy: 0.9848 - loss: 0.0536\n",
            "Epoch 51: val_accuracy did not improve from 0.99147\n",
            "\u001b[1m755/755\u001b[0m \u001b[32m━━━━━━━━━━━━━━━━━━━━\u001b[0m\u001b[37m\u001b[0m \u001b[1m18s\u001b[0m 24ms/step - accuracy: 0.9848 - loss: 0.0536 - val_accuracy: 0.9915 - val_loss: 0.0316 - learning_rate: 1.2500e-04\n",
            "Epoch 52/150\n",
            "\u001b[1m755/755\u001b[0m \u001b[32m━━━━━━━━━━━━━━━━━━━━\u001b[0m\u001b[37m\u001b[0m \u001b[1m0s\u001b[0m 23ms/step - accuracy: 0.9860 - loss: 0.0498\n",
            "Epoch 52: val_accuracy did not improve from 0.99147\n",
            "\u001b[1m755/755\u001b[0m \u001b[32m━━━━━━━━━━━━━━━━━━━━\u001b[0m\u001b[37m\u001b[0m \u001b[1m22s\u001b[0m 26ms/step - accuracy: 0.9860 - loss: 0.0498 - val_accuracy: 0.9914 - val_loss: 0.0312 - learning_rate: 1.2500e-04\n",
            "Epoch 53/150\n",
            "\u001b[1m755/755\u001b[0m \u001b[32m━━━━━━━━━━━━━━━━━━━━\u001b[0m\u001b[37m\u001b[0m \u001b[1m0s\u001b[0m 22ms/step - accuracy: 0.9841 - loss: 0.0571\n",
            "Epoch 53: val_accuracy improved from 0.99147 to 0.99155, saving model to model/best_asl_model.h5\n"
          ]
        },
        {
          "output_type": "stream",
          "name": "stderr",
          "text": [
            "WARNING:absl:You are saving your model as an HDF5 file via `model.save()` or `keras.saving.save_model(model)`. This file format is considered legacy. We recommend using instead the native Keras format, e.g. `model.save('my_model.keras')` or `keras.saving.save_model(model, 'my_model.keras')`. \n"
          ]
        },
        {
          "output_type": "stream",
          "name": "stdout",
          "text": [
            "\b\b\b\b\b\b\b\b\b\b\b\b\b\b\b\b\b\b\b\b\b\b\b\b\b\b\b\b\b\b\b\b\b\b\b\b\b\b\b\b\b\b\b\b\b\b\b\b\b\b\b\b\b\b\b\b\b\b\b\b\b\b\b\b\b\b\b\b\b\b\b\b\b\b\b\r\u001b[1m755/755\u001b[0m \u001b[32m━━━━━━━━━━━━━━━━━━━━\u001b[0m\u001b[37m\u001b[0m \u001b[1m18s\u001b[0m 24ms/step - accuracy: 0.9841 - loss: 0.0571 - val_accuracy: 0.9915 - val_loss: 0.0315 - learning_rate: 1.2500e-04\n",
            "Epoch 54/150\n",
            "\u001b[1m753/755\u001b[0m \u001b[32m━━━━━━━━━━━━━━━━━━━\u001b[0m\u001b[37m━\u001b[0m \u001b[1m0s\u001b[0m 22ms/step - accuracy: 0.9839 - loss: 0.0537\n",
            "Epoch 54: val_accuracy improved from 0.99155 to 0.99213, saving model to model/best_asl_model.h5\n"
          ]
        },
        {
          "output_type": "stream",
          "name": "stderr",
          "text": [
            "WARNING:absl:You are saving your model as an HDF5 file via `model.save()` or `keras.saving.save_model(model)`. This file format is considered legacy. We recommend using instead the native Keras format, e.g. `model.save('my_model.keras')` or `keras.saving.save_model(model, 'my_model.keras')`. \n"
          ]
        },
        {
          "output_type": "stream",
          "name": "stdout",
          "text": [
            "\b\b\b\b\b\b\b\b\b\b\b\b\b\b\b\b\b\b\b\b\b\b\b\b\b\b\b\b\b\b\b\b\b\b\b\b\b\b\b\b\b\b\b\b\b\b\b\b\b\b\b\b\b\b\b\b\b\b\b\b\b\b\b\b\b\b\b\b\b\b\b\b\b\b\b\r\u001b[1m755/755\u001b[0m \u001b[32m━━━━━━━━━━━━━━━━━━━━\u001b[0m\u001b[37m\u001b[0m \u001b[1m18s\u001b[0m 23ms/step - accuracy: 0.9839 - loss: 0.0537 - val_accuracy: 0.9921 - val_loss: 0.0308 - learning_rate: 1.2500e-04\n",
            "Epoch 55/150\n",
            "\u001b[1m754/755\u001b[0m \u001b[32m━━━━━━━━━━━━━━━━━━━\u001b[0m\u001b[37m━\u001b[0m \u001b[1m0s\u001b[0m 22ms/step - accuracy: 0.9853 - loss: 0.0527\n",
            "Epoch 55: val_accuracy did not improve from 0.99213\n",
            "\u001b[1m755/755\u001b[0m \u001b[32m━━━━━━━━━━━━━━━━━━━━\u001b[0m\u001b[37m\u001b[0m \u001b[1m20s\u001b[0m 23ms/step - accuracy: 0.9853 - loss: 0.0527 - val_accuracy: 0.9915 - val_loss: 0.0303 - learning_rate: 1.2500e-04\n",
            "Epoch 56/150\n",
            "\u001b[1m753/755\u001b[0m \u001b[32m━━━━━━━━━━━━━━━━━━━\u001b[0m\u001b[37m━\u001b[0m \u001b[1m0s\u001b[0m 22ms/step - accuracy: 0.9841 - loss: 0.0548\n",
            "Epoch 56: val_accuracy did not improve from 0.99213\n",
            "\u001b[1m755/755\u001b[0m \u001b[32m━━━━━━━━━━━━━━━━━━━━\u001b[0m\u001b[37m\u001b[0m \u001b[1m18s\u001b[0m 24ms/step - accuracy: 0.9841 - loss: 0.0548 - val_accuracy: 0.9917 - val_loss: 0.0307 - learning_rate: 1.2500e-04\n",
            "Epoch 57/150\n",
            "\u001b[1m753/755\u001b[0m \u001b[32m━━━━━━━━━━━━━━━━━━━\u001b[0m\u001b[37m━\u001b[0m \u001b[1m0s\u001b[0m 23ms/step - accuracy: 0.9857 - loss: 0.0514\n",
            "Epoch 57: val_accuracy improved from 0.99213 to 0.99229, saving model to model/best_asl_model.h5\n"
          ]
        },
        {
          "output_type": "stream",
          "name": "stderr",
          "text": [
            "WARNING:absl:You are saving your model as an HDF5 file via `model.save()` or `keras.saving.save_model(model)`. This file format is considered legacy. We recommend using instead the native Keras format, e.g. `model.save('my_model.keras')` or `keras.saving.save_model(model, 'my_model.keras')`. \n"
          ]
        },
        {
          "output_type": "stream",
          "name": "stdout",
          "text": [
            "\b\b\b\b\b\b\b\b\b\b\b\b\b\b\b\b\b\b\b\b\b\b\b\b\b\b\b\b\b\b\b\b\b\b\b\b\b\b\b\b\b\b\b\b\b\b\b\b\b\b\b\b\b\b\b\b\b\b\b\b\b\b\b\b\b\b\b\b\b\b\b\b\b\b\b\r\u001b[1m755/755\u001b[0m \u001b[32m━━━━━━━━━━━━━━━━━━━━\u001b[0m\u001b[37m\u001b[0m \u001b[1m19s\u001b[0m 25ms/step - accuracy: 0.9857 - loss: 0.0514 - val_accuracy: 0.9923 - val_loss: 0.0299 - learning_rate: 1.2500e-04\n",
            "Epoch 58/150\n",
            "\u001b[1m754/755\u001b[0m \u001b[32m━━━━━━━━━━━━━━━━━━━\u001b[0m\u001b[37m━\u001b[0m \u001b[1m0s\u001b[0m 22ms/step - accuracy: 0.9846 - loss: 0.0507\n",
            "Epoch 58: val_accuracy did not improve from 0.99229\n",
            "\u001b[1m755/755\u001b[0m \u001b[32m━━━━━━━━━━━━━━━━━━━━\u001b[0m\u001b[37m\u001b[0m \u001b[1m18s\u001b[0m 24ms/step - accuracy: 0.9846 - loss: 0.0506 - val_accuracy: 0.9920 - val_loss: 0.0308 - learning_rate: 1.2500e-04\n",
            "Epoch 59/150\n",
            "\u001b[1m753/755\u001b[0m \u001b[32m━━━━━━━━━━━━━━━━━━━\u001b[0m\u001b[37m━\u001b[0m \u001b[1m0s\u001b[0m 23ms/step - accuracy: 0.9854 - loss: 0.0488\n",
            "Epoch 59: val_accuracy did not improve from 0.99229\n",
            "\u001b[1m755/755\u001b[0m \u001b[32m━━━━━━━━━━━━━━━━━━━━\u001b[0m\u001b[37m\u001b[0m \u001b[1m22s\u001b[0m 25ms/step - accuracy: 0.9854 - loss: 0.0488 - val_accuracy: 0.9922 - val_loss: 0.0307 - learning_rate: 1.2500e-04\n",
            "Epoch 60/150\n",
            "\u001b[1m752/755\u001b[0m \u001b[32m━━━━━━━━━━━━━━━━━━━\u001b[0m\u001b[37m━\u001b[0m \u001b[1m0s\u001b[0m 22ms/step - accuracy: 0.9846 - loss: 0.0528\n",
            "Epoch 60: val_accuracy did not improve from 0.99229\n",
            "\u001b[1m755/755\u001b[0m \u001b[32m━━━━━━━━━━━━━━━━━━━━\u001b[0m\u001b[37m\u001b[0m \u001b[1m18s\u001b[0m 23ms/step - accuracy: 0.9846 - loss: 0.0528 - val_accuracy: 0.9920 - val_loss: 0.0308 - learning_rate: 1.2500e-04\n",
            "Epoch 61/150\n",
            "\u001b[1m752/755\u001b[0m \u001b[32m━━━━━━━━━━━━━━━━━━━\u001b[0m\u001b[37m━\u001b[0m \u001b[1m0s\u001b[0m 23ms/step - accuracy: 0.9840 - loss: 0.0548\n",
            "Epoch 61: val_accuracy did not improve from 0.99229\n",
            "\u001b[1m755/755\u001b[0m \u001b[32m━━━━━━━━━━━━━━━━━━━━\u001b[0m\u001b[37m\u001b[0m \u001b[1m22s\u001b[0m 25ms/step - accuracy: 0.9840 - loss: 0.0547 - val_accuracy: 0.9923 - val_loss: 0.0303 - learning_rate: 1.2500e-04\n",
            "Epoch 62/150\n",
            "\u001b[1m752/755\u001b[0m \u001b[32m━━━━━━━━━━━━━━━━━━━\u001b[0m\u001b[37m━\u001b[0m \u001b[1m0s\u001b[0m 22ms/step - accuracy: 0.9862 - loss: 0.0519\n",
            "Epoch 62: val_accuracy did not improve from 0.99229\n",
            "\u001b[1m755/755\u001b[0m \u001b[32m━━━━━━━━━━━━━━━━━━━━\u001b[0m\u001b[37m\u001b[0m \u001b[1m18s\u001b[0m 24ms/step - accuracy: 0.9861 - loss: 0.0519 - val_accuracy: 0.9923 - val_loss: 0.0296 - learning_rate: 1.2500e-04\n",
            "Epoch 63/150\n",
            "\u001b[1m754/755\u001b[0m \u001b[32m━━━━━━━━━━━━━━━━━━━\u001b[0m\u001b[37m━\u001b[0m \u001b[1m0s\u001b[0m 22ms/step - accuracy: 0.9835 - loss: 0.0543\n",
            "Epoch 63: val_accuracy improved from 0.99229 to 0.99271, saving model to model/best_asl_model.h5\n"
          ]
        },
        {
          "output_type": "stream",
          "name": "stderr",
          "text": [
            "WARNING:absl:You are saving your model as an HDF5 file via `model.save()` or `keras.saving.save_model(model)`. This file format is considered legacy. We recommend using instead the native Keras format, e.g. `model.save('my_model.keras')` or `keras.saving.save_model(model, 'my_model.keras')`. \n"
          ]
        },
        {
          "output_type": "stream",
          "name": "stdout",
          "text": [
            "\b\b\b\b\b\b\b\b\b\b\b\b\b\b\b\b\b\b\b\b\b\b\b\b\b\b\b\b\b\b\b\b\b\b\b\b\b\b\b\b\b\b\b\b\b\b\b\b\b\b\b\b\b\b\b\b\b\b\b\b\b\b\b\b\b\b\b\b\b\b\b\b\b\b\b\r\u001b[1m755/755\u001b[0m \u001b[32m━━━━━━━━━━━━━━━━━━━━\u001b[0m\u001b[37m\u001b[0m \u001b[1m19s\u001b[0m 26ms/step - accuracy: 0.9835 - loss: 0.0543 - val_accuracy: 0.9927 - val_loss: 0.0293 - learning_rate: 1.2500e-04\n",
            "Epoch 64/150\n",
            "\u001b[1m753/755\u001b[0m \u001b[32m━━━━━━━━━━━━━━━━━━━\u001b[0m\u001b[37m━\u001b[0m \u001b[1m0s\u001b[0m 22ms/step - accuracy: 0.9846 - loss: 0.0548\n",
            "Epoch 64: val_accuracy did not improve from 0.99271\n",
            "\u001b[1m755/755\u001b[0m \u001b[32m━━━━━━━━━━━━━━━━━━━━\u001b[0m\u001b[37m\u001b[0m \u001b[1m19s\u001b[0m 24ms/step - accuracy: 0.9846 - loss: 0.0548 - val_accuracy: 0.9924 - val_loss: 0.0294 - learning_rate: 1.2500e-04\n",
            "Epoch 65/150\n",
            "\u001b[1m752/755\u001b[0m \u001b[32m━━━━━━━━━━━━━━━━━━━\u001b[0m\u001b[37m━\u001b[0m \u001b[1m0s\u001b[0m 24ms/step - accuracy: 0.9858 - loss: 0.0499\n",
            "Epoch 65: val_accuracy did not improve from 0.99271\n",
            "\u001b[1m755/755\u001b[0m \u001b[32m━━━━━━━━━━━━━━━━━━━━\u001b[0m\u001b[37m\u001b[0m \u001b[1m22s\u001b[0m 25ms/step - accuracy: 0.9858 - loss: 0.0499 - val_accuracy: 0.9917 - val_loss: 0.0299 - learning_rate: 1.2500e-04\n",
            "Epoch 66/150\n",
            "\u001b[1m755/755\u001b[0m \u001b[32m━━━━━━━━━━━━━━━━━━━━\u001b[0m\u001b[37m\u001b[0m \u001b[1m0s\u001b[0m 22ms/step - accuracy: 0.9830 - loss: 0.0575\n",
            "Epoch 66: val_accuracy did not improve from 0.99271\n",
            "\u001b[1m755/755\u001b[0m \u001b[32m━━━━━━━━━━━━━━━━━━━━\u001b[0m\u001b[37m\u001b[0m \u001b[1m19s\u001b[0m 24ms/step - accuracy: 0.9830 - loss: 0.0575 - val_accuracy: 0.9922 - val_loss: 0.0301 - learning_rate: 1.2500e-04\n",
            "Epoch 67/150\n",
            "\u001b[1m755/755\u001b[0m \u001b[32m━━━━━━━━━━━━━━━━━━━━\u001b[0m\u001b[37m\u001b[0m \u001b[1m0s\u001b[0m 24ms/step - accuracy: 0.9852 - loss: 0.0525\n",
            "Epoch 67: val_accuracy did not improve from 0.99271\n",
            "\u001b[1m755/755\u001b[0m \u001b[32m━━━━━━━━━━━━━━━━━━━━\u001b[0m\u001b[37m\u001b[0m \u001b[1m19s\u001b[0m 26ms/step - accuracy: 0.9852 - loss: 0.0525 - val_accuracy: 0.9920 - val_loss: 0.0299 - learning_rate: 1.2500e-04\n",
            "Epoch 68/150\n",
            "\u001b[1m753/755\u001b[0m \u001b[32m━━━━━━━━━━━━━━━━━━━\u001b[0m\u001b[37m━\u001b[0m \u001b[1m0s\u001b[0m 23ms/step - accuracy: 0.9842 - loss: 0.0564\n",
            "Epoch 68: ReduceLROnPlateau reducing learning rate to 6.25000029685907e-05.\n",
            "\n",
            "Epoch 68: val_accuracy did not improve from 0.99271\n",
            "\u001b[1m755/755\u001b[0m \u001b[32m━━━━━━━━━━━━━━━━━━━━\u001b[0m\u001b[37m\u001b[0m \u001b[1m19s\u001b[0m 24ms/step - accuracy: 0.9842 - loss: 0.0564 - val_accuracy: 0.9925 - val_loss: 0.0293 - learning_rate: 1.2500e-04\n",
            "Epoch 69/150\n",
            "\u001b[1m753/755\u001b[0m \u001b[32m━━━━━━━━━━━━━━━━━━━\u001b[0m\u001b[37m━\u001b[0m \u001b[1m0s\u001b[0m 22ms/step - accuracy: 0.9846 - loss: 0.0517\n",
            "Epoch 69: val_accuracy did not improve from 0.99271\n",
            "\u001b[1m755/755\u001b[0m \u001b[32m━━━━━━━━━━━━━━━━━━━━\u001b[0m\u001b[37m\u001b[0m \u001b[1m19s\u001b[0m 25ms/step - accuracy: 0.9846 - loss: 0.0517 - val_accuracy: 0.9921 - val_loss: 0.0293 - learning_rate: 6.2500e-05\n",
            "Epoch 70/150\n",
            "\u001b[1m755/755\u001b[0m \u001b[32m━━━━━━━━━━━━━━━━━━━━\u001b[0m\u001b[37m\u001b[0m \u001b[1m0s\u001b[0m 22ms/step - accuracy: 0.9868 - loss: 0.0474\n",
            "Epoch 70: val_accuracy did not improve from 0.99271\n",
            "\u001b[1m755/755\u001b[0m \u001b[32m━━━━━━━━━━━━━━━━━━━━\u001b[0m\u001b[37m\u001b[0m \u001b[1m18s\u001b[0m 24ms/step - accuracy: 0.9868 - loss: 0.0474 - val_accuracy: 0.9924 - val_loss: 0.0293 - learning_rate: 6.2500e-05\n",
            "Epoch 71/150\n",
            "\u001b[1m755/755\u001b[0m \u001b[32m━━━━━━━━━━━━━━━━━━━━\u001b[0m\u001b[37m\u001b[0m \u001b[1m0s\u001b[0m 23ms/step - accuracy: 0.9866 - loss: 0.0479\n",
            "Epoch 71: val_accuracy did not improve from 0.99271\n",
            "\u001b[1m755/755\u001b[0m \u001b[32m━━━━━━━━━━━━━━━━━━━━\u001b[0m\u001b[37m\u001b[0m \u001b[1m21s\u001b[0m 25ms/step - accuracy: 0.9866 - loss: 0.0479 - val_accuracy: 0.9925 - val_loss: 0.0293 - learning_rate: 6.2500e-05\n",
            "Epoch 72/150\n",
            "\u001b[1m754/755\u001b[0m \u001b[32m━━━━━━━━━━━━━━━━━━━\u001b[0m\u001b[37m━\u001b[0m \u001b[1m0s\u001b[0m 22ms/step - accuracy: 0.9870 - loss: 0.0461\n",
            "Epoch 72: val_accuracy did not improve from 0.99271\n",
            "\u001b[1m755/755\u001b[0m \u001b[32m━━━━━━━━━━━━━━━━━━━━\u001b[0m\u001b[37m\u001b[0m \u001b[1m19s\u001b[0m 24ms/step - accuracy: 0.9870 - loss: 0.0461 - val_accuracy: 0.9925 - val_loss: 0.0296 - learning_rate: 6.2500e-05\n",
            "Epoch 73/150\n",
            "\u001b[1m753/755\u001b[0m \u001b[32m━━━━━━━━━━━━━━━━━━━\u001b[0m\u001b[37m━\u001b[0m \u001b[1m0s\u001b[0m 22ms/step - accuracy: 0.9857 - loss: 0.0490\n",
            "Epoch 73: val_accuracy did not improve from 0.99271\n",
            "\u001b[1m755/755\u001b[0m \u001b[32m━━━━━━━━━━━━━━━━━━━━\u001b[0m\u001b[37m\u001b[0m \u001b[1m19s\u001b[0m 26ms/step - accuracy: 0.9857 - loss: 0.0490 - val_accuracy: 0.9923 - val_loss: 0.0290 - learning_rate: 6.2500e-05\n",
            "Epoch 74/150\n",
            "\u001b[1m755/755\u001b[0m \u001b[32m━━━━━━━━━━━━━━━━━━━━\u001b[0m\u001b[37m\u001b[0m \u001b[1m0s\u001b[0m 22ms/step - accuracy: 0.9847 - loss: 0.0505\n",
            "Epoch 74: val_accuracy did not improve from 0.99271\n",
            "\u001b[1m755/755\u001b[0m \u001b[32m━━━━━━━━━━━━━━━━━━━━\u001b[0m\u001b[37m\u001b[0m \u001b[1m18s\u001b[0m 24ms/step - accuracy: 0.9847 - loss: 0.0505 - val_accuracy: 0.9921 - val_loss: 0.0295 - learning_rate: 6.2500e-05\n",
            "Epoch 75/150\n",
            "\u001b[1m754/755\u001b[0m \u001b[32m━━━━━━━━━━━━━━━━━━━\u001b[0m\u001b[37m━\u001b[0m \u001b[1m0s\u001b[0m 22ms/step - accuracy: 0.9870 - loss: 0.0473\n",
            "Epoch 75: val_accuracy did not improve from 0.99271\n",
            "\u001b[1m755/755\u001b[0m \u001b[32m━━━━━━━━━━━━━━━━━━━━\u001b[0m\u001b[37m\u001b[0m \u001b[1m18s\u001b[0m 24ms/step - accuracy: 0.9870 - loss: 0.0473 - val_accuracy: 0.9923 - val_loss: 0.0299 - learning_rate: 6.2500e-05\n",
            "Epoch 76/150\n",
            "\u001b[1m753/755\u001b[0m \u001b[32m━━━━━━━━━━━━━━━━━━━\u001b[0m\u001b[37m━\u001b[0m \u001b[1m0s\u001b[0m 24ms/step - accuracy: 0.9855 - loss: 0.0484\n",
            "Epoch 76: val_accuracy did not improve from 0.99271\n",
            "\u001b[1m755/755\u001b[0m \u001b[32m━━━━━━━━━━━━━━━━━━━━\u001b[0m\u001b[37m\u001b[0m \u001b[1m19s\u001b[0m 26ms/step - accuracy: 0.9855 - loss: 0.0484 - val_accuracy: 0.9920 - val_loss: 0.0304 - learning_rate: 6.2500e-05\n",
            "Epoch 77/150\n",
            "\u001b[1m752/755\u001b[0m \u001b[32m━━━━━━━━━━━━━━━━━━━\u001b[0m\u001b[37m━\u001b[0m \u001b[1m0s\u001b[0m 22ms/step - accuracy: 0.9863 - loss: 0.0485\n",
            "Epoch 77: val_accuracy did not improve from 0.99271\n",
            "\u001b[1m755/755\u001b[0m \u001b[32m━━━━━━━━━━━━━━━━━━━━\u001b[0m\u001b[37m\u001b[0m \u001b[1m18s\u001b[0m 24ms/step - accuracy: 0.9863 - loss: 0.0485 - val_accuracy: 0.9920 - val_loss: 0.0302 - learning_rate: 6.2500e-05\n",
            "Epoch 78/150\n",
            "\u001b[1m754/755\u001b[0m \u001b[32m━━━━━━━━━━━━━━━━━━━\u001b[0m\u001b[37m━\u001b[0m \u001b[1m0s\u001b[0m 24ms/step - accuracy: 0.9862 - loss: 0.0487\n",
            "Epoch 78: ReduceLROnPlateau reducing learning rate to 3.125000148429535e-05.\n",
            "\n",
            "Epoch 78: val_accuracy did not improve from 0.99271\n",
            "\u001b[1m755/755\u001b[0m \u001b[32m━━━━━━━━━━━━━━━━━━━━\u001b[0m\u001b[37m\u001b[0m \u001b[1m22s\u001b[0m 25ms/step - accuracy: 0.9862 - loss: 0.0487 - val_accuracy: 0.9925 - val_loss: 0.0290 - learning_rate: 6.2500e-05\n",
            "Epoch 79/150\n",
            "\u001b[1m754/755\u001b[0m \u001b[32m━━━━━━━━━━━━━━━━━━━\u001b[0m\u001b[37m━\u001b[0m \u001b[1m0s\u001b[0m 23ms/step - accuracy: 0.9870 - loss: 0.0460\n",
            "Epoch 79: val_accuracy did not improve from 0.99271\n",
            "\u001b[1m755/755\u001b[0m \u001b[32m━━━━━━━━━━━━━━━━━━━━\u001b[0m\u001b[37m\u001b[0m \u001b[1m18s\u001b[0m 24ms/step - accuracy: 0.9870 - loss: 0.0460 - val_accuracy: 0.9924 - val_loss: 0.0292 - learning_rate: 3.1250e-05\n",
            "Epoch 80/150\n",
            "\u001b[1m753/755\u001b[0m \u001b[32m━━━━━━━━━━━━━━━━━━━\u001b[0m\u001b[37m━\u001b[0m \u001b[1m0s\u001b[0m 24ms/step - accuracy: 0.9862 - loss: 0.0488\n",
            "Epoch 80: val_accuracy did not improve from 0.99271\n",
            "\u001b[1m755/755\u001b[0m \u001b[32m━━━━━━━━━━━━━━━━━━━━\u001b[0m\u001b[37m\u001b[0m \u001b[1m22s\u001b[0m 26ms/step - accuracy: 0.9862 - loss: 0.0488 - val_accuracy: 0.9925 - val_loss: 0.0295 - learning_rate: 3.1250e-05\n",
            "Epoch 81/150\n",
            "\u001b[1m754/755\u001b[0m \u001b[32m━━━━━━━━━━━━━━━━━━━\u001b[0m\u001b[37m━\u001b[0m \u001b[1m0s\u001b[0m 22ms/step - accuracy: 0.9863 - loss: 0.0461\n",
            "Epoch 81: val_accuracy did not improve from 0.99271\n",
            "\u001b[1m755/755\u001b[0m \u001b[32m━━━━━━━━━━━━━━━━━━━━\u001b[0m\u001b[37m\u001b[0m \u001b[1m18s\u001b[0m 24ms/step - accuracy: 0.9863 - loss: 0.0461 - val_accuracy: 0.9924 - val_loss: 0.0296 - learning_rate: 3.1250e-05\n",
            "Epoch 82/150\n",
            "\u001b[1m753/755\u001b[0m \u001b[32m━━━━━━━━━━━━━━━━━━━\u001b[0m\u001b[37m━\u001b[0m \u001b[1m0s\u001b[0m 24ms/step - accuracy: 0.9862 - loss: 0.0464\n",
            "Epoch 82: val_accuracy did not improve from 0.99271\n",
            "\u001b[1m755/755\u001b[0m \u001b[32m━━━━━━━━━━━━━━━━━━━━\u001b[0m\u001b[37m\u001b[0m \u001b[1m22s\u001b[0m 25ms/step - accuracy: 0.9862 - loss: 0.0464 - val_accuracy: 0.9926 - val_loss: 0.0289 - learning_rate: 3.1250e-05\n",
            "Epoch 83/150\n",
            "\u001b[1m754/755\u001b[0m \u001b[32m━━━━━━━━━━━━━━━━━━━\u001b[0m\u001b[37m━\u001b[0m \u001b[1m0s\u001b[0m 23ms/step - accuracy: 0.9867 - loss: 0.0478\n",
            "Epoch 83: ReduceLROnPlateau reducing learning rate to 1.5625000742147677e-05.\n",
            "\n",
            "Epoch 83: val_accuracy did not improve from 0.99271\n",
            "\u001b[1m755/755\u001b[0m \u001b[32m━━━━━━━━━━━━━━━━━━━━\u001b[0m\u001b[37m\u001b[0m \u001b[1m18s\u001b[0m 24ms/step - accuracy: 0.9867 - loss: 0.0478 - val_accuracy: 0.9927 - val_loss: 0.0291 - learning_rate: 3.1250e-05\n",
            "Epoch 84/150\n",
            "\u001b[1m754/755\u001b[0m \u001b[32m━━━━━━━━━━━━━━━━━━━\u001b[0m\u001b[37m━\u001b[0m \u001b[1m0s\u001b[0m 24ms/step - accuracy: 0.9872 - loss: 0.0445\n",
            "Epoch 84: val_accuracy did not improve from 0.99271\n",
            "\u001b[1m755/755\u001b[0m \u001b[32m━━━━━━━━━━━━━━━━━━━━\u001b[0m\u001b[37m\u001b[0m \u001b[1m21s\u001b[0m 26ms/step - accuracy: 0.9872 - loss: 0.0445 - val_accuracy: 0.9924 - val_loss: 0.0292 - learning_rate: 1.5625e-05\n",
            "Epoch 85/150\n",
            "\u001b[1m754/755\u001b[0m \u001b[32m━━━━━━━━━━━━━━━━━━━\u001b[0m\u001b[37m━\u001b[0m \u001b[1m0s\u001b[0m 23ms/step - accuracy: 0.9866 - loss: 0.0478\n",
            "Epoch 85: val_accuracy did not improve from 0.99271\n",
            "\u001b[1m755/755\u001b[0m \u001b[32m━━━━━━━━━━━━━━━━━━━━\u001b[0m\u001b[37m\u001b[0m \u001b[1m19s\u001b[0m 25ms/step - accuracy: 0.9866 - loss: 0.0478 - val_accuracy: 0.9925 - val_loss: 0.0292 - learning_rate: 1.5625e-05\n",
            "Epoch 86/150\n",
            "\u001b[1m754/755\u001b[0m \u001b[32m━━━━━━━━━━━━━━━━━━━\u001b[0m\u001b[37m━\u001b[0m \u001b[1m0s\u001b[0m 24ms/step - accuracy: 0.9861 - loss: 0.0509\n",
            "Epoch 86: val_accuracy did not improve from 0.99271\n",
            "\u001b[1m755/755\u001b[0m \u001b[32m━━━━━━━━━━━━━━━━━━━━\u001b[0m\u001b[37m\u001b[0m \u001b[1m21s\u001b[0m 26ms/step - accuracy: 0.9861 - loss: 0.0509 - val_accuracy: 0.9926 - val_loss: 0.0295 - learning_rate: 1.5625e-05\n",
            "Epoch 87/150\n",
            "\u001b[1m754/755\u001b[0m \u001b[32m━━━━━━━━━━━━━━━━━━━\u001b[0m\u001b[37m━\u001b[0m \u001b[1m0s\u001b[0m 23ms/step - accuracy: 0.9864 - loss: 0.0490\n",
            "Epoch 87: val_accuracy did not improve from 0.99271\n",
            "\u001b[1m755/755\u001b[0m \u001b[32m━━━━━━━━━━━━━━━━━━━━\u001b[0m\u001b[37m\u001b[0m \u001b[1m19s\u001b[0m 24ms/step - accuracy: 0.9864 - loss: 0.0490 - val_accuracy: 0.9924 - val_loss: 0.0293 - learning_rate: 1.5625e-05\n",
            "Epoch 88/150\n",
            "\u001b[1m754/755\u001b[0m \u001b[32m━━━━━━━━━━━━━━━━━━━\u001b[0m\u001b[37m━\u001b[0m \u001b[1m0s\u001b[0m 24ms/step - accuracy: 0.9874 - loss: 0.0456\n",
            "Epoch 88: ReduceLROnPlateau reducing learning rate to 7.812500371073838e-06.\n",
            "\n",
            "Epoch 88: val_accuracy did not improve from 0.99271\n",
            "\u001b[1m755/755\u001b[0m \u001b[32m━━━━━━━━━━━━━━━━━━━━\u001b[0m\u001b[37m\u001b[0m \u001b[1m22s\u001b[0m 26ms/step - accuracy: 0.9874 - loss: 0.0456 - val_accuracy: 0.9923 - val_loss: 0.0299 - learning_rate: 1.5625e-05\n",
            "Epoch 89/150\n",
            "\u001b[1m753/755\u001b[0m \u001b[32m━━━━━━━━━━━━━━━━━━━\u001b[0m\u001b[37m━\u001b[0m \u001b[1m0s\u001b[0m 22ms/step - accuracy: 0.9856 - loss: 0.0507\n",
            "Epoch 89: val_accuracy did not improve from 0.99271\n",
            "\u001b[1m755/755\u001b[0m \u001b[32m━━━━━━━━━━━━━━━━━━━━\u001b[0m\u001b[37m\u001b[0m \u001b[1m18s\u001b[0m 24ms/step - accuracy: 0.9856 - loss: 0.0507 - val_accuracy: 0.9925 - val_loss: 0.0295 - learning_rate: 7.8125e-06\n",
            "Epoch 90/150\n",
            "\u001b[1m755/755\u001b[0m \u001b[32m━━━━━━━━━━━━━━━━━━━━\u001b[0m\u001b[37m\u001b[0m \u001b[1m0s\u001b[0m 22ms/step - accuracy: 0.9882 - loss: 0.0435\n",
            "Epoch 90: val_accuracy did not improve from 0.99271\n",
            "\u001b[1m755/755\u001b[0m \u001b[32m━━━━━━━━━━━━━━━━━━━━\u001b[0m\u001b[37m\u001b[0m \u001b[1m19s\u001b[0m 26ms/step - accuracy: 0.9882 - loss: 0.0435 - val_accuracy: 0.9924 - val_loss: 0.0296 - learning_rate: 7.8125e-06\n",
            "Epoch 91/150\n",
            "\u001b[1m755/755\u001b[0m \u001b[32m━━━━━━━━━━━━━━━━━━━━\u001b[0m\u001b[37m\u001b[0m \u001b[1m0s\u001b[0m 22ms/step - accuracy: 0.9873 - loss: 0.0427\n",
            "Epoch 91: val_accuracy did not improve from 0.99271\n",
            "\u001b[1m755/755\u001b[0m \u001b[32m━━━━━━━━━━━━━━━━━━━━\u001b[0m\u001b[37m\u001b[0m \u001b[1m19s\u001b[0m 24ms/step - accuracy: 0.9873 - loss: 0.0427 - val_accuracy: 0.9925 - val_loss: 0.0296 - learning_rate: 7.8125e-06\n",
            "Epoch 92/150\n",
            "\u001b[1m755/755\u001b[0m \u001b[32m━━━━━━━━━━━━━━━━━━━━\u001b[0m\u001b[37m\u001b[0m \u001b[1m0s\u001b[0m 22ms/step - accuracy: 0.9865 - loss: 0.0464\n",
            "Epoch 92: val_accuracy did not improve from 0.99271\n",
            "\u001b[1m755/755\u001b[0m \u001b[32m━━━━━━━━━━━━━━━━━━━━\u001b[0m\u001b[37m\u001b[0m \u001b[1m19s\u001b[0m 26ms/step - accuracy: 0.9865 - loss: 0.0464 - val_accuracy: 0.9925 - val_loss: 0.0295 - learning_rate: 7.8125e-06\n",
            "Epoch 93/150\n",
            "\u001b[1m754/755\u001b[0m \u001b[32m━━━━━━━━━━━━━━━━━━━\u001b[0m\u001b[37m━\u001b[0m \u001b[1m0s\u001b[0m 23ms/step - accuracy: 0.9853 - loss: 0.0505\n",
            "Epoch 93: ReduceLROnPlateau reducing learning rate to 3.906250185536919e-06.\n",
            "\n",
            "Epoch 93: val_accuracy did not improve from 0.99271\n",
            "\u001b[1m755/755\u001b[0m \u001b[32m━━━━━━━━━━━━━━━━━━━━\u001b[0m\u001b[37m\u001b[0m \u001b[1m19s\u001b[0m 24ms/step - accuracy: 0.9853 - loss: 0.0505 - val_accuracy: 0.9925 - val_loss: 0.0293 - learning_rate: 7.8125e-06\n",
            "Epoch 94/150\n",
            "\u001b[1m755/755\u001b[0m \u001b[32m━━━━━━━━━━━━━━━━━━━━\u001b[0m\u001b[37m\u001b[0m \u001b[1m0s\u001b[0m 23ms/step - accuracy: 0.9862 - loss: 0.0466\n",
            "Epoch 94: val_accuracy did not improve from 0.99271\n",
            "\u001b[1m755/755\u001b[0m \u001b[32m━━━━━━━━━━━━━━━━━━━━\u001b[0m\u001b[37m\u001b[0m \u001b[1m21s\u001b[0m 25ms/step - accuracy: 0.9862 - loss: 0.0466 - val_accuracy: 0.9925 - val_loss: 0.0293 - learning_rate: 3.9063e-06\n",
            "Epoch 95/150\n",
            "\u001b[1m753/755\u001b[0m \u001b[32m━━━━━━━━━━━━━━━━━━━\u001b[0m\u001b[37m━\u001b[0m \u001b[1m0s\u001b[0m 22ms/step - accuracy: 0.9855 - loss: 0.0458\n",
            "Epoch 95: val_accuracy did not improve from 0.99271\n",
            "\u001b[1m755/755\u001b[0m \u001b[32m━━━━━━━━━━━━━━━━━━━━\u001b[0m\u001b[37m\u001b[0m \u001b[1m19s\u001b[0m 23ms/step - accuracy: 0.9855 - loss: 0.0458 - val_accuracy: 0.9924 - val_loss: 0.0293 - learning_rate: 3.9063e-06\n",
            "Epoch 96/150\n",
            "\u001b[1m754/755\u001b[0m \u001b[32m━━━━━━━━━━━━━━━━━━━\u001b[0m\u001b[37m━\u001b[0m \u001b[1m0s\u001b[0m 23ms/step - accuracy: 0.9862 - loss: 0.0485\n",
            "Epoch 96: val_accuracy did not improve from 0.99271\n",
            "\u001b[1m755/755\u001b[0m \u001b[32m━━━━━━━━━━━━━━━━━━━━\u001b[0m\u001b[37m\u001b[0m \u001b[1m20s\u001b[0m 26ms/step - accuracy: 0.9862 - loss: 0.0485 - val_accuracy: 0.9926 - val_loss: 0.0292 - learning_rate: 3.9063e-06\n",
            "Epoch 97/150\n",
            "\u001b[1m754/755\u001b[0m \u001b[32m━━━━━━━━━━━━━━━━━━━\u001b[0m\u001b[37m━\u001b[0m \u001b[1m0s\u001b[0m 22ms/step - accuracy: 0.9871 - loss: 0.0452\n",
            "Epoch 97: val_accuracy did not improve from 0.99271\n",
            "\u001b[1m755/755\u001b[0m \u001b[32m━━━━━━━━━━━━━━━━━━━━\u001b[0m\u001b[37m\u001b[0m \u001b[1m18s\u001b[0m 24ms/step - accuracy: 0.9871 - loss: 0.0452 - val_accuracy: 0.9924 - val_loss: 0.0293 - learning_rate: 3.9063e-06\n",
            "Epoch 97: early stopping\n",
            "Restoring model weights from the end of the best epoch: 82.\n"
          ]
        },
        {
          "output_type": "stream",
          "name": "stderr",
          "text": [
            "WARNING:absl:You are saving your model as an HDF5 file via `model.save()` or `keras.saving.save_model(model)`. This file format is considered legacy. We recommend using instead the native Keras format, e.g. `model.save('my_model.keras')` or `keras.saving.save_model(model, 'my_model.keras')`. \n"
          ]
        },
        {
          "output_type": "stream",
          "name": "stdout",
          "text": [
            "\n",
            "💾 Saving final model and artifacts...\n",
            "\n",
            "📈 Plotting training curves...\n"
          ]
        },
        {
          "output_type": "display_data",
          "data": {
            "text/plain": [
              "<Figure size 1200x400 with 2 Axes>"
            ],
            "image/png": "[encoded data removed]"
          },
          "metadata": {}
        },
        {
          "output_type": "stream",
          "name": "stdout",
          "text": [
            "\n",
            "🧩 Generating Confusion Matrix...\n",
            "\u001b[1m378/378\u001b[0m \u001b[32m━━━━━━━━━━━━━━━━━━━━\u001b[0m\u001b[37m\u001b[0m \u001b[1m2s\u001b[0m 5ms/step\n"
          ]
        },
        {
          "output_type": "display_data",
          "data": {
            "text/plain": [
              "<Figure size 1400x1200 with 2 Axes>"
            ],
            "image/png": "[encoded data removed]"
          },
          "metadata": {}
        },
        {
          "output_type": "stream",
          "name": "stdout",
          "text": [
            "\n",
            "📋 Classification Report:\n",
            "              precision    recall  f1-score   support\n",
            "\n",
            "           A       1.00      0.99      1.00       437\n",
            "           B       1.00      1.00      1.00       441\n",
            "           C       1.00      1.00      1.00       398\n",
            "           D       0.99      0.99      0.99       493\n",
            "           E       1.00      1.00      1.00       462\n",
            "           F       1.00      1.00      1.00       575\n",
            "           G       1.00      1.00      1.00       488\n",
            "           H       0.99      1.00      0.99       479\n",
            "           I       1.00      0.99      0.99       477\n",
            "           J       1.00      0.99      1.00       516\n",
            "           K       1.00      0.99      1.00       540\n",
            "           L       1.00      1.00      1.00       505\n",
            "           M       0.94      0.98      0.96       313\n",
            "           N       0.96      0.95      0.96       255\n",
            "           O       0.99      1.00      0.99       453\n",
            "           P       1.00      0.99      0.99       408\n",
            "           Q       1.00      1.00      1.00       419\n",
            "           R       0.99      0.98      0.99       508\n",
            "           S       0.98      1.00      0.99       510\n",
            "           T       1.00      0.99      0.99       470\n",
            "           U       0.99      0.99      0.99       503\n",
            "           V       1.00      0.99      1.00       510\n",
            "           W       1.00      0.99      0.99       491\n",
            "           X       0.99      0.99      0.99       432\n",
            "           Y       1.00      1.00      1.00       517\n",
            "           Z       0.99      1.00      0.99       470\n",
            "\n",
            "    accuracy                           0.99     12070\n",
            "   macro avg       0.99      0.99      0.99     12070\n",
            "weighted avg       0.99      0.99      0.99     12070\n",
            "\n",
            "\n",
            "🔝 Top 5 Most Confused Pairs (True → Predicted):\n",
            "   N → M: 13 times\n",
            "   D → O: 5 times\n",
            "   M → N: 3 times\n",
            "   R → X: 3 times\n",
            "   U → R: 3 times\n",
            "\n",
            "🧪 Evaluating on validation set...\n",
            "\n",
            "✅ Final Validation Accuracy: 0.9926 (99.26%)\n",
            "✅ Final Validation Loss: 0.0289\n",
            "\n",
            "🎉 All done!\n",
            "   → Best model saved to: model/best_asl_model.h5\n",
            "   → Final model saved to: model/asl_model_final.h5\n",
            "   → Label encoder saved to: model/label_encoder.pkl\n",
            "   → Feature scaler saved to: model/scaler.pkl\n",
            "   → Training curves saved to: model/training_curves.png\n",
            "   → Confusion matrix saved to: model/confusion_matrix.png\n"
          ]
        }
      ],
      "source": [
        "# train_model.py\n",
        "import os\n",
        "import pandas as pd\n",
        "import numpy as np\n",
        "import matplotlib.pyplot as plt\n",
        "import seaborn as sns\n",
        "from collections import Counter\n",
        "from sklearn.preprocessing import LabelEncoder, StandardScaler\n",
        "from sklearn.utils.class_weight import compute_class_weight\n",
        "from sklearn.model_selection import train_test_split\n",
        "from sklearn.metrics import confusion_matrix, classification_report\n",
        "from tensorflow.keras.models import Sequential\n",
        "from tensorflow.keras.layers import Dense, Dropout, BatchNormalization, Conv1D, GlobalAveragePooling1D\n",
        "from tensorflow.keras.utils import to_categorical\n",
        "from tensorflow.keras.callbacks import EarlyStopping, ReduceLROnPlateau, ModelCheckpoint\n",
        "from tensorflow.keras.optimizers import Adam\n",
        "import pickle\n",
        "\n",
        "# ==============================\n",
        "# CONFIG\n",
        "# ==============================\n",
        "DATA_DIR = \"kaggle_landmarks\"  # 👈 CHANGED TO MATCH collect_data.py\n",
        "MODEL_DIR = \"model\"\n",
        "os.makedirs(MODEL_DIR, exist_ok=True)\n",
        "\n",
        "# ==============================\n",
        "# DATA LOADING (WITH SHUFFLE)\n",
        "# ==============================\n",
        "def load_data():\n",
        "    X, y = [], []\n",
        "    print(\"📂 Loading datasets...\")\n",
        "    for file in sorted(os.listdir(DATA_DIR)):\n",
        "        if file.endswith(\".csv\"):\n",
        "            label = file.split('.')[0]  # e.g., \"A.csv\" → \"A\"\n",
        "            df = pd.read_csv(os.path.join(DATA_DIR, file), header=None)\n",
        "            print(f\"   → {label}: {len(df)} samples\")\n",
        "            for _, row in df.iterrows():\n",
        "                X.append(row.values)\n",
        "                y.append(label)\n",
        "\n",
        "    X = np.array(X)\n",
        "    y = np.array(y)\n",
        "\n",
        "    # Shuffle together\n",
        "    print(\"\\n🔀 Shuffling dataset...\")\n",
        "    indices = np.arange(len(X))\n",
        "    np.random.seed(42)\n",
        "    np.random.shuffle(indices)\n",
        "    X = X[indices]\n",
        "    y = y[indices]\n",
        "\n",
        "    return X, y\n",
        "\n",
        "# Load data\n",
        "X, y = load_data()\n",
        "print(f\"\\n✅ Total samples: {len(X)} | Classes: {len(np.unique(y))} → {sorted(np.unique(y))}\")\n",
        "\n",
        "# Check per-class counts\n",
        "unique, counts = np.unique(y, return_counts=True)\n",
        "class_counts = dict(zip(unique, counts))\n",
        "print(\"\\n📊 Class Distribution:\")\n",
        "for cls, cnt in sorted(class_counts.items()):\n",
        "    print(f\"  {cls}: {cnt:>5} samples\")\n",
        "\n",
        "# Encode labels\n",
        "le = LabelEncoder()\n",
        "y_encoded = le.fit_transform(y)\n",
        "num_classes = len(le.classes_)\n",
        "y_categorical = to_categorical(y_encoded, num_classes=num_classes)\n",
        "\n",
        "# Compute class weights\n",
        "class_weights = compute_class_weight('balanced', classes=np.unique(y_encoded), y=y_encoded)\n",
        "class_weight_dict = dict(enumerate(class_weights))\n",
        "\n",
        "# ✅ RESHAPE FOR Conv1D: (N, 63) → (N, 21, 3)\n",
        "X = X.reshape(-1, 21, 3)\n",
        "input_shape = X.shape[1:]  # (21, 3)\n",
        "print(f\"\\n🔢 Input shape after reshaping: {input_shape}\")\n",
        "\n",
        "# Train/Val Split (Stratified)\n",
        "print(\"\\n✂️  Splitting into train/validation sets (stratified)...\")\n",
        "X_train, X_val, y_train, y_val = train_test_split(\n",
        "    X, y_categorical,\n",
        "    test_size=0.2,\n",
        "    random_state=42,\n",
        "    stratify=y_encoded\n",
        ")\n",
        "\n",
        "# ✅ FEATURE SCALING (Highly Recommended)\n",
        "scaler = StandardScaler()\n",
        "# Reshape to 2D for scaler: (N, 21, 3) → (N, 63)\n",
        "X_train_flat = X_train.reshape(X_train.shape[0], -1)\n",
        "X_val_flat = X_val.reshape(X_val.shape[0], -1)\n",
        "\n",
        "X_train_flat = scaler.fit_transform(X_train_flat)\n",
        "X_val_flat = scaler.transform(X_val_flat)\n",
        "\n",
        "# Reshape back to 3D\n",
        "X_train = X_train_flat.reshape(-1, 21, 3)\n",
        "X_val = X_val_flat.reshape(-1, 21, 3)\n",
        "\n",
        "# Save scaler\n",
        "with open(os.path.join(MODEL_DIR, 'scaler.pkl'), 'wb') as f:\n",
        "    pickle.dump(scaler, f)\n",
        "\n",
        "# Sanity check\n",
        "print(\"\\n🔍 Sample of first 10 labels in:\")\n",
        "print(\"   Train:\", le.inverse_transform(np.argmax(y_train[:10], axis=1)))\n",
        "print(\"   Val:  \", le.inverse_transform(np.argmax(y_val[:10], axis=1)))\n",
        "\n",
        "# Double-check class balance\n",
        "train_dist = Counter(np.argmax(y_train, axis=1))\n",
        "val_dist = Counter(np.argmax(y_val, axis=1))\n",
        "print(\"\\n🧮 Train set class counts (first 5):\", dict(list(train_dist.items())[:5]))\n",
        "print(\"🧮 Val set class counts (first 5):  \", dict(list(val_dist.items())[:5]))\n",
        "\n",
        "# ==============================\n",
        "# MODEL BUILDING — Conv1D Version\n",
        "# ==============================\n",
        "print(\"\\n🧠 Building Conv1D model...\")\n",
        "\n",
        "model = Sequential([\n",
        "    Conv1D(64, kernel_size=3, activation='relu', input_shape=input_shape),\n",
        "    BatchNormalization(),\n",
        "    Dropout(0.3),\n",
        "\n",
        "    Conv1D(128, kernel_size=3, activation='relu'),\n",
        "    BatchNormalization(),\n",
        "    Dropout(0.3),\n",
        "\n",
        "    Conv1D(64, kernel_size=3, activation='relu'),\n",
        "    BatchNormalization(),\n",
        "    Dropout(0.3),\n",
        "\n",
        "    GlobalAveragePooling1D(),\n",
        "\n",
        "    Dense(64, activation='relu'),\n",
        "    Dropout(0.4),\n",
        "    Dense(num_classes, activation='softmax')\n",
        "])\n",
        "\n",
        "# Compile\n",
        "optimizer = Adam(learning_rate=0.001)\n",
        "model.compile(\n",
        "    optimizer=optimizer,\n",
        "    loss='categorical_crossentropy',\n",
        "    metrics=['accuracy']\n",
        ")\n",
        "\n",
        "model.summary()\n",
        "\n",
        "# ==============================\n",
        "# CALLBACKS\n",
        "# ==============================\n",
        "early_stop = EarlyStopping(\n",
        "    monitor='val_loss',\n",
        "    patience=15,\n",
        "    restore_best_weights=True,\n",
        "    verbose=1\n",
        ")\n",
        "\n",
        "reduce_lr = ReduceLROnPlateau(\n",
        "    monitor='val_loss',\n",
        "    factor=0.5,\n",
        "    patience=5,\n",
        "    min_lr=1e-7,\n",
        "    verbose=1\n",
        ")\n",
        "\n",
        "checkpoint = ModelCheckpoint(\n",
        "    filepath=os.path.join(MODEL_DIR, 'best_asl_model.h5'),\n",
        "    monitor='val_accuracy',\n",
        "    save_best_only=True,\n",
        "    verbose=1\n",
        ")\n",
        "\n",
        "callbacks = [early_stop, reduce_lr, checkpoint]\n",
        "\n",
        "# ==============================\n",
        "# TRAINING\n",
        "# ==============================\n",
        "print(\"\\n🚀 Starting Training...\\n\")\n",
        "\n",
        "history = model.fit(\n",
        "    X_train, y_train,\n",
        "    epochs=150,\n",
        "    batch_size=64,\n",
        "    validation_data=(X_val, y_val),\n",
        "    class_weight=class_weight_dict,\n",
        "    callbacks=callbacks,\n",
        "    verbose=1\n",
        ")\n",
        "\n",
        "# ==============================\n",
        "# SAVE ARTIFACTS\n",
        "# ==============================\n",
        "print(\"\\n💾 Saving final model and artifacts...\")\n",
        "\n",
        "model.save(os.path.join(MODEL_DIR, 'asl_model_final.h5'))\n",
        "with open(os.path.join(MODEL_DIR, 'label_encoder.pkl'), 'wb') as f:\n",
        "    pickle.dump(le, f)\n",
        "with open(os.path.join(MODEL_DIR, 'training_history.pkl'), 'wb') as f:\n",
        "    pickle.dump(history.history, f)\n",
        "\n",
        "# ==============================\n",
        "# PLOTTING: LOSS & ACCURACY\n",
        "# ==============================\n",
        "print(\"\\n📈 Plotting training curves...\")\n",
        "\n",
        "plt.figure(figsize=(12, 4))\n",
        "\n",
        "plt.subplot(1, 2, 1)\n",
        "plt.plot(history.history['loss'], label='Train Loss')\n",
        "plt.plot(history.history['val_loss'], label='Val Loss')\n",
        "plt.title('Model Loss')\n",
        "plt.xlabel('Epoch')\n",
        "plt.ylabel('Loss')\n",
        "plt.legend()\n",
        "\n",
        "plt.subplot(1, 2, 2)\n",
        "plt.plot(history.history['accuracy'], label='Train Acc')\n",
        "plt.plot(history.history['val_accuracy'], label='Val Acc')\n",
        "plt.title('Model Accuracy')\n",
        "plt.xlabel('Epoch')\n",
        "plt.ylabel('Accuracy')\n",
        "plt.legend()\n",
        "\n",
        "plt.tight_layout()\n",
        "plt.savefig(os.path.join(MODEL_DIR, 'training_curves.png'))\n",
        "plt.show()\n",
        "\n",
        "# ==============================\n",
        "# CONFUSION MATRIX 🎯\n",
        "# ==============================\n",
        "print(\"\\n🧩 Generating Confusion Matrix...\")\n",
        "\n",
        "y_val_pred = model.predict(X_val)\n",
        "y_val_pred_classes = np.argmax(y_val_pred, axis=1)\n",
        "y_val_true_classes = np.argmax(y_val, axis=1)\n",
        "\n",
        "cm = confusion_matrix(y_val_true_classes, y_val_pred_classes)\n",
        "\n",
        "plt.figure(figsize=(14, 12))\n",
        "sns.heatmap(cm, annot=True, fmt='d', cmap='Blues',\n",
        "            xticklabels=le.classes_,\n",
        "            yticklabels=le.classes_)\n",
        "plt.title('Confusion Matrix - Validation Set')\n",
        "plt.xlabel('Predicted Label')\n",
        "plt.ylabel('True Label')\n",
        "plt.xticks(rotation=45)\n",
        "plt.yticks(rotation=0)\n",
        "plt.tight_layout()\n",
        "plt.savefig(os.path.join(MODEL_DIR, 'confusion_matrix.png'), dpi=150)\n",
        "plt.show()\n",
        "\n",
        "# Classification report\n",
        "print(\"\\n📋 Classification Report:\")\n",
        "print(classification_report(y_val_true_classes, y_val_pred_classes, target_names=le.classes_))\n",
        "\n",
        "# Top confused pairs\n",
        "print(\"\\n🔝 Top 5 Most Confused Pairs (True → Predicted):\")\n",
        "cm_df = pd.DataFrame(cm, index=le.classes_, columns=le.classes_)\n",
        "errors = []\n",
        "for true_label in le.classes_:\n",
        "    for pred_label in le.classes_:\n",
        "        if true_label != pred_label and cm_df.loc[true_label, pred_label] > 0:\n",
        "            errors.append((true_label, pred_label, cm_df.loc[true_label, pred_label]))\n",
        "\n",
        "errors_sorted = sorted(errors, key=lambda x: x[2], reverse=True)[:5]\n",
        "for true_lbl, pred_lbl, count in errors_sorted:\n",
        "    print(f\"   {true_lbl} → {pred_lbl}: {count} times\")\n",
        "\n",
        "# ==============================\n",
        "# FINAL EVALUATION\n",
        "# ==============================\n",
        "print(\"\\n🧪 Evaluating on validation set...\")\n",
        "val_loss, val_acc = model.evaluate(X_val, y_val, verbose=0)\n",
        "print(f\"\\n✅ Final Validation Accuracy: {val_acc:.4f} ({val_acc*100:.2f}%)\")\n",
        "print(f\"✅ Final Validation Loss: {val_loss:.4f}\")\n",
        "\n",
        "print(f\"\\n🎉 All done!\")\n",
        "print(f\"   → Best model saved to: {os.path.join(MODEL_DIR, 'best_asl_model.h5')}\")\n",
        "print(f\"   → Final model saved to: {os.path.join(MODEL_DIR, 'asl_model_final.h5')}\")\n",
        "print(f\"   → Label encoder saved to: {os.path.join(MODEL_DIR, 'label_encoder.pkl')}\")\n",
        "print(f\"   → Feature scaler saved to: {os.path.join(MODEL_DIR, 'scaler.pkl')}\")\n",
        "print(f\"   → Training curves saved to: {os.path.join(MODEL_DIR, 'training_curves.png')}\")\n",
        "print(f\"   → Confusion matrix saved to: {os.path.join(MODEL_DIR, 'confusion_matrix.png')}\")"
      ]
    },
    {
      "cell_type": "code",
      "execution_count": null,
      "metadata": {
        "id": "OSCmyrv2QHPE"
      },
      "outputs": [],
      "source": []
    }
  ],
  "metadata": {
    "colab": {
      "provenance": []
    },
    "kernelspec": {
      "display_name": "Python 3",
      "name": "python3"
    },
    "language_info": {
      "name": "python"
    }
  },
  "nbformat": 4,
  "nbformat_minor": 0
}